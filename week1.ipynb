{
 "cells": [
  {
   "cell_type": "markdown",
   "metadata": {},
   "source": [
    "### 命名实体识别"
   ]
  },
  {
   "cell_type": "code",
   "execution_count": 25,
   "metadata": {
    "ExecuteTime": {
     "end_time": "2023-07-08T06:03:32.291075Z",
     "start_time": "2023-07-08T06:03:31.728858Z"
    }
   },
   "outputs": [
    {
     "ename": "ImportError",
     "evalue": "spacy-pkuseg not installed. To use this model, install spacy-pkuseg with `pip install \"spacy-pkuseg>=0.0.27,<0.1.0\"` or `conda install -c conda-forge \"spacy-pkuseg>=0.0.27,<0.1.0\"`",
     "output_type": "error",
     "traceback": [
      "\u001B[0;31m---------------------------------------------------------------------------\u001B[0m",
      "\u001B[0;31mImportError\u001B[0m                               Traceback (most recent call last)",
      "Cell \u001B[0;32mIn[25], line 3\u001B[0m\n\u001B[1;32m      1\u001B[0m \u001B[38;5;28;01mimport\u001B[39;00m \u001B[38;5;21;01mspacy\u001B[39;00m\n\u001B[0;32m----> 3\u001B[0m nlp \u001B[38;5;241m=\u001B[39m \u001B[43mspacy\u001B[49m\u001B[38;5;241;43m.\u001B[39;49m\u001B[43mload\u001B[49m\u001B[43m(\u001B[49m\u001B[38;5;124;43m'\u001B[39;49m\u001B[38;5;124;43m/opt/homebrew/Caskroom/miniconda/base/envs/mactalk/lib/python3.10/site-packages/zh_core_web_sm/zh_core_web_sm-3.5.0\u001B[39;49m\u001B[38;5;124;43m'\u001B[39;49m\u001B[43m)\u001B[49m\n\u001B[1;32m      4\u001B[0m text \u001B[38;5;241m=\u001B[39m \u001B[38;5;124m\"\u001B[39m\u001B[38;5;124m下周三晚上给第二个Keynote定稿\u001B[39m\u001B[38;5;124m\"\u001B[39m\n\u001B[1;32m      5\u001B[0m doc \u001B[38;5;241m=\u001B[39m nlp(text)\n",
      "File \u001B[0;32m~/Library/Python/3.9/lib/python/site-packages/spacy/__init__.py:54\u001B[0m, in \u001B[0;36mload\u001B[0;34m(name, vocab, disable, enable, exclude, config)\u001B[0m\n\u001B[1;32m     30\u001B[0m \u001B[38;5;28;01mdef\u001B[39;00m \u001B[38;5;21mload\u001B[39m(\n\u001B[1;32m     31\u001B[0m     name: Union[\u001B[38;5;28mstr\u001B[39m, Path],\n\u001B[1;32m     32\u001B[0m     \u001B[38;5;241m*\u001B[39m,\n\u001B[0;32m   (...)\u001B[0m\n\u001B[1;32m     37\u001B[0m     config: Union[Dict[\u001B[38;5;28mstr\u001B[39m, Any], Config] \u001B[38;5;241m=\u001B[39m util\u001B[38;5;241m.\u001B[39mSimpleFrozenDict(),\n\u001B[1;32m     38\u001B[0m ) \u001B[38;5;241m-\u001B[39m\u001B[38;5;241m>\u001B[39m Language:\n\u001B[1;32m     39\u001B[0m \u001B[38;5;250m    \u001B[39m\u001B[38;5;124;03m\"\"\"Load a spaCy model from an installed package or a local path.\u001B[39;00m\n\u001B[1;32m     40\u001B[0m \n\u001B[1;32m     41\u001B[0m \u001B[38;5;124;03m    name (str): Package name or model path.\u001B[39;00m\n\u001B[0;32m   (...)\u001B[0m\n\u001B[1;32m     52\u001B[0m \u001B[38;5;124;03m    RETURNS (Language): The loaded nlp object.\u001B[39;00m\n\u001B[1;32m     53\u001B[0m \u001B[38;5;124;03m    \"\"\"\u001B[39;00m\n\u001B[0;32m---> 54\u001B[0m     \u001B[38;5;28;01mreturn\u001B[39;00m \u001B[43mutil\u001B[49m\u001B[38;5;241;43m.\u001B[39;49m\u001B[43mload_model\u001B[49m\u001B[43m(\u001B[49m\n\u001B[1;32m     55\u001B[0m \u001B[43m        \u001B[49m\u001B[43mname\u001B[49m\u001B[43m,\u001B[49m\n\u001B[1;32m     56\u001B[0m \u001B[43m        \u001B[49m\u001B[43mvocab\u001B[49m\u001B[38;5;241;43m=\u001B[39;49m\u001B[43mvocab\u001B[49m\u001B[43m,\u001B[49m\n\u001B[1;32m     57\u001B[0m \u001B[43m        \u001B[49m\u001B[43mdisable\u001B[49m\u001B[38;5;241;43m=\u001B[39;49m\u001B[43mdisable\u001B[49m\u001B[43m,\u001B[49m\n\u001B[1;32m     58\u001B[0m \u001B[43m        \u001B[49m\u001B[43menable\u001B[49m\u001B[38;5;241;43m=\u001B[39;49m\u001B[43menable\u001B[49m\u001B[43m,\u001B[49m\n\u001B[1;32m     59\u001B[0m \u001B[43m        \u001B[49m\u001B[43mexclude\u001B[49m\u001B[38;5;241;43m=\u001B[39;49m\u001B[43mexclude\u001B[49m\u001B[43m,\u001B[49m\n\u001B[1;32m     60\u001B[0m \u001B[43m        \u001B[49m\u001B[43mconfig\u001B[49m\u001B[38;5;241;43m=\u001B[39;49m\u001B[43mconfig\u001B[49m\u001B[43m,\u001B[49m\n\u001B[1;32m     61\u001B[0m \u001B[43m    \u001B[49m\u001B[43m)\u001B[49m\n",
      "File \u001B[0;32m~/Library/Python/3.9/lib/python/site-packages/spacy/util.py:444\u001B[0m, in \u001B[0;36mload_model\u001B[0;34m(name, vocab, disable, enable, exclude, config)\u001B[0m\n\u001B[1;32m    442\u001B[0m         \u001B[38;5;28;01mreturn\u001B[39;00m load_model_from_package(name, \u001B[38;5;241m*\u001B[39m\u001B[38;5;241m*\u001B[39mkwargs)  \u001B[38;5;66;03m# type: ignore[arg-type]\u001B[39;00m\n\u001B[1;32m    443\u001B[0m     \u001B[38;5;28;01mif\u001B[39;00m Path(name)\u001B[38;5;241m.\u001B[39mexists():  \u001B[38;5;66;03m# path to model data directory\u001B[39;00m\n\u001B[0;32m--> 444\u001B[0m         \u001B[38;5;28;01mreturn\u001B[39;00m \u001B[43mload_model_from_path\u001B[49m\u001B[43m(\u001B[49m\u001B[43mPath\u001B[49m\u001B[43m(\u001B[49m\u001B[43mname\u001B[49m\u001B[43m)\u001B[49m\u001B[43m,\u001B[49m\u001B[43m \u001B[49m\u001B[38;5;241;43m*\u001B[39;49m\u001B[38;5;241;43m*\u001B[39;49m\u001B[43mkwargs\u001B[49m\u001B[43m)\u001B[49m  \u001B[38;5;66;03m# type: ignore[arg-type]\u001B[39;00m\n\u001B[1;32m    445\u001B[0m \u001B[38;5;28;01melif\u001B[39;00m \u001B[38;5;28mhasattr\u001B[39m(name, \u001B[38;5;124m\"\u001B[39m\u001B[38;5;124mexists\u001B[39m\u001B[38;5;124m\"\u001B[39m):  \u001B[38;5;66;03m# Path or Path-like to model data\u001B[39;00m\n\u001B[1;32m    446\u001B[0m     \u001B[38;5;28;01mreturn\u001B[39;00m load_model_from_path(name, \u001B[38;5;241m*\u001B[39m\u001B[38;5;241m*\u001B[39mkwargs)  \u001B[38;5;66;03m# type: ignore[arg-type]\u001B[39;00m\n",
      "File \u001B[0;32m~/Library/Python/3.9/lib/python/site-packages/spacy/util.py:524\u001B[0m, in \u001B[0;36mload_model_from_path\u001B[0;34m(model_path, meta, vocab, disable, enable, exclude, config)\u001B[0m\n\u001B[1;32m    515\u001B[0m config \u001B[38;5;241m=\u001B[39m load_config(config_path, overrides\u001B[38;5;241m=\u001B[39moverrides)\n\u001B[1;32m    516\u001B[0m nlp \u001B[38;5;241m=\u001B[39m load_model_from_config(\n\u001B[1;32m    517\u001B[0m     config,\n\u001B[1;32m    518\u001B[0m     vocab\u001B[38;5;241m=\u001B[39mvocab,\n\u001B[0;32m   (...)\u001B[0m\n\u001B[1;32m    522\u001B[0m     meta\u001B[38;5;241m=\u001B[39mmeta,\n\u001B[1;32m    523\u001B[0m )\n\u001B[0;32m--> 524\u001B[0m \u001B[38;5;28;01mreturn\u001B[39;00m \u001B[43mnlp\u001B[49m\u001B[38;5;241;43m.\u001B[39;49m\u001B[43mfrom_disk\u001B[49m\u001B[43m(\u001B[49m\u001B[43mmodel_path\u001B[49m\u001B[43m,\u001B[49m\u001B[43m \u001B[49m\u001B[43mexclude\u001B[49m\u001B[38;5;241;43m=\u001B[39;49m\u001B[43mexclude\u001B[49m\u001B[43m,\u001B[49m\u001B[43m \u001B[49m\u001B[43moverrides\u001B[49m\u001B[38;5;241;43m=\u001B[39;49m\u001B[43moverrides\u001B[49m\u001B[43m)\u001B[49m\n",
      "File \u001B[0;32m~/Library/Python/3.9/lib/python/site-packages/spacy/language.py:2125\u001B[0m, in \u001B[0;36mLanguage.from_disk\u001B[0;34m(self, path, exclude, overrides)\u001B[0m\n\u001B[1;32m   2122\u001B[0m \u001B[38;5;28;01mif\u001B[39;00m \u001B[38;5;129;01mnot\u001B[39;00m (path \u001B[38;5;241m/\u001B[39m \u001B[38;5;124m\"\u001B[39m\u001B[38;5;124mvocab\u001B[39m\u001B[38;5;124m\"\u001B[39m)\u001B[38;5;241m.\u001B[39mexists() \u001B[38;5;129;01mand\u001B[39;00m \u001B[38;5;124m\"\u001B[39m\u001B[38;5;124mvocab\u001B[39m\u001B[38;5;124m\"\u001B[39m \u001B[38;5;129;01mnot\u001B[39;00m \u001B[38;5;129;01min\u001B[39;00m exclude:  \u001B[38;5;66;03m# type: ignore[operator]\u001B[39;00m\n\u001B[1;32m   2123\u001B[0m     \u001B[38;5;66;03m# Convert to list here in case exclude is (default) tuple\u001B[39;00m\n\u001B[1;32m   2124\u001B[0m     exclude \u001B[38;5;241m=\u001B[39m \u001B[38;5;28mlist\u001B[39m(exclude) \u001B[38;5;241m+\u001B[39m [\u001B[38;5;124m\"\u001B[39m\u001B[38;5;124mvocab\u001B[39m\u001B[38;5;124m\"\u001B[39m]\n\u001B[0;32m-> 2125\u001B[0m \u001B[43mutil\u001B[49m\u001B[38;5;241;43m.\u001B[39;49m\u001B[43mfrom_disk\u001B[49m\u001B[43m(\u001B[49m\u001B[43mpath\u001B[49m\u001B[43m,\u001B[49m\u001B[43m \u001B[49m\u001B[43mdeserializers\u001B[49m\u001B[43m,\u001B[49m\u001B[43m \u001B[49m\u001B[43mexclude\u001B[49m\u001B[43m)\u001B[49m  \u001B[38;5;66;03m# type: ignore[arg-type]\u001B[39;00m\n\u001B[1;32m   2126\u001B[0m \u001B[38;5;28mself\u001B[39m\u001B[38;5;241m.\u001B[39m_path \u001B[38;5;241m=\u001B[39m path  \u001B[38;5;66;03m# type: ignore[assignment]\u001B[39;00m\n\u001B[1;32m   2127\u001B[0m \u001B[38;5;28mself\u001B[39m\u001B[38;5;241m.\u001B[39m_link_components()\n",
      "File \u001B[0;32m~/Library/Python/3.9/lib/python/site-packages/spacy/util.py:1369\u001B[0m, in \u001B[0;36mfrom_disk\u001B[0;34m(path, readers, exclude)\u001B[0m\n\u001B[1;32m   1366\u001B[0m \u001B[38;5;28;01mfor\u001B[39;00m key, reader \u001B[38;5;129;01min\u001B[39;00m readers\u001B[38;5;241m.\u001B[39mitems():\n\u001B[1;32m   1367\u001B[0m     \u001B[38;5;66;03m# Split to support file names like meta.json\u001B[39;00m\n\u001B[1;32m   1368\u001B[0m     \u001B[38;5;28;01mif\u001B[39;00m key\u001B[38;5;241m.\u001B[39msplit(\u001B[38;5;124m\"\u001B[39m\u001B[38;5;124m.\u001B[39m\u001B[38;5;124m\"\u001B[39m)[\u001B[38;5;241m0\u001B[39m] \u001B[38;5;129;01mnot\u001B[39;00m \u001B[38;5;129;01min\u001B[39;00m exclude:\n\u001B[0;32m-> 1369\u001B[0m         \u001B[43mreader\u001B[49m\u001B[43m(\u001B[49m\u001B[43mpath\u001B[49m\u001B[43m \u001B[49m\u001B[38;5;241;43m/\u001B[39;49m\u001B[43m \u001B[49m\u001B[43mkey\u001B[49m\u001B[43m)\u001B[49m\n\u001B[1;32m   1370\u001B[0m \u001B[38;5;28;01mreturn\u001B[39;00m path\n",
      "File \u001B[0;32m~/Library/Python/3.9/lib/python/site-packages/spacy/language.py:2111\u001B[0m, in \u001B[0;36mLanguage.from_disk.<locals>.<lambda>\u001B[0;34m(p)\u001B[0m\n\u001B[1;32m   2109\u001B[0m deserializers[\u001B[38;5;124m\"\u001B[39m\u001B[38;5;124mmeta.json\u001B[39m\u001B[38;5;124m\"\u001B[39m] \u001B[38;5;241m=\u001B[39m deserialize_meta  \u001B[38;5;66;03m# type: ignore[assignment]\u001B[39;00m\n\u001B[1;32m   2110\u001B[0m deserializers[\u001B[38;5;124m\"\u001B[39m\u001B[38;5;124mvocab\u001B[39m\u001B[38;5;124m\"\u001B[39m] \u001B[38;5;241m=\u001B[39m deserialize_vocab  \u001B[38;5;66;03m# type: ignore[assignment]\u001B[39;00m\n\u001B[0;32m-> 2111\u001B[0m deserializers[\u001B[38;5;124m\"\u001B[39m\u001B[38;5;124mtokenizer\u001B[39m\u001B[38;5;124m\"\u001B[39m] \u001B[38;5;241m=\u001B[39m \u001B[38;5;28;01mlambda\u001B[39;00m p: \u001B[38;5;28;43mself\u001B[39;49m\u001B[38;5;241;43m.\u001B[39;49m\u001B[43mtokenizer\u001B[49m\u001B[38;5;241;43m.\u001B[39;49m\u001B[43mfrom_disk\u001B[49m\u001B[43m(\u001B[49m\u001B[43m  \u001B[49m\u001B[38;5;66;43;03m# type: ignore[union-attr]\u001B[39;49;00m\n\u001B[1;32m   2112\u001B[0m \u001B[43m    \u001B[49m\u001B[43mp\u001B[49m\u001B[43m,\u001B[49m\u001B[43m \u001B[49m\u001B[43mexclude\u001B[49m\u001B[38;5;241;43m=\u001B[39;49m\u001B[43m[\u001B[49m\u001B[38;5;124;43m\"\u001B[39;49m\u001B[38;5;124;43mvocab\u001B[39;49m\u001B[38;5;124;43m\"\u001B[39;49m\u001B[43m]\u001B[49m\n\u001B[1;32m   2113\u001B[0m \u001B[43m\u001B[49m\u001B[43m)\u001B[49m\n\u001B[1;32m   2114\u001B[0m \u001B[38;5;28;01mfor\u001B[39;00m name, proc \u001B[38;5;129;01min\u001B[39;00m \u001B[38;5;28mself\u001B[39m\u001B[38;5;241m.\u001B[39m_components:\n\u001B[1;32m   2115\u001B[0m     \u001B[38;5;28;01mif\u001B[39;00m name \u001B[38;5;129;01min\u001B[39;00m exclude:\n",
      "File \u001B[0;32m~/Library/Python/3.9/lib/python/site-packages/spacy/lang/zh/__init__.py:283\u001B[0m, in \u001B[0;36mChineseTokenizer.from_disk\u001B[0;34m(self, path, **kwargs)\u001B[0m\n\u001B[1;32m    276\u001B[0m         \u001B[38;5;28mself\u001B[39m\u001B[38;5;241m.\u001B[39mpkuseg_seg\u001B[38;5;241m.\u001B[39mpostprocesser\u001B[38;5;241m.\u001B[39mother_words \u001B[38;5;241m=\u001B[39m \u001B[38;5;28mset\u001B[39m(other_words)\n\u001B[1;32m    278\u001B[0m serializers \u001B[38;5;241m=\u001B[39m {\n\u001B[1;32m    279\u001B[0m     \u001B[38;5;124m\"\u001B[39m\u001B[38;5;124mcfg\u001B[39m\u001B[38;5;124m\"\u001B[39m: \u001B[38;5;28;01mlambda\u001B[39;00m p: \u001B[38;5;28mself\u001B[39m\u001B[38;5;241m.\u001B[39m_set_config(srsly\u001B[38;5;241m.\u001B[39mread_json(p)),\n\u001B[1;32m    280\u001B[0m     \u001B[38;5;124m\"\u001B[39m\u001B[38;5;124mpkuseg_model\u001B[39m\u001B[38;5;124m\"\u001B[39m: \u001B[38;5;28;01mlambda\u001B[39;00m p: load_pkuseg_model(p),\n\u001B[1;32m    281\u001B[0m     \u001B[38;5;124m\"\u001B[39m\u001B[38;5;124mpkuseg_processors\u001B[39m\u001B[38;5;124m\"\u001B[39m: \u001B[38;5;28;01mlambda\u001B[39;00m p: load_pkuseg_processors(p),\n\u001B[1;32m    282\u001B[0m }\n\u001B[0;32m--> 283\u001B[0m \u001B[43mutil\u001B[49m\u001B[38;5;241;43m.\u001B[39;49m\u001B[43mfrom_disk\u001B[49m\u001B[43m(\u001B[49m\u001B[43mpath\u001B[49m\u001B[43m,\u001B[49m\u001B[43m \u001B[49m\u001B[43mserializers\u001B[49m\u001B[43m,\u001B[49m\u001B[43m \u001B[49m\u001B[43m[\u001B[49m\u001B[43m]\u001B[49m\u001B[43m)\u001B[49m\n",
      "File \u001B[0;32m~/Library/Python/3.9/lib/python/site-packages/spacy/util.py:1369\u001B[0m, in \u001B[0;36mfrom_disk\u001B[0;34m(path, readers, exclude)\u001B[0m\n\u001B[1;32m   1366\u001B[0m \u001B[38;5;28;01mfor\u001B[39;00m key, reader \u001B[38;5;129;01min\u001B[39;00m readers\u001B[38;5;241m.\u001B[39mitems():\n\u001B[1;32m   1367\u001B[0m     \u001B[38;5;66;03m# Split to support file names like meta.json\u001B[39;00m\n\u001B[1;32m   1368\u001B[0m     \u001B[38;5;28;01mif\u001B[39;00m key\u001B[38;5;241m.\u001B[39msplit(\u001B[38;5;124m\"\u001B[39m\u001B[38;5;124m.\u001B[39m\u001B[38;5;124m\"\u001B[39m)[\u001B[38;5;241m0\u001B[39m] \u001B[38;5;129;01mnot\u001B[39;00m \u001B[38;5;129;01min\u001B[39;00m exclude:\n\u001B[0;32m-> 1369\u001B[0m         \u001B[43mreader\u001B[49m\u001B[43m(\u001B[49m\u001B[43mpath\u001B[49m\u001B[43m \u001B[49m\u001B[38;5;241;43m/\u001B[39;49m\u001B[43m \u001B[49m\u001B[43mkey\u001B[49m\u001B[43m)\u001B[49m\n\u001B[1;32m   1370\u001B[0m \u001B[38;5;28;01mreturn\u001B[39;00m path\n",
      "File \u001B[0;32m~/Library/Python/3.9/lib/python/site-packages/spacy/lang/zh/__init__.py:280\u001B[0m, in \u001B[0;36mChineseTokenizer.from_disk.<locals>.<lambda>\u001B[0;34m(p)\u001B[0m\n\u001B[1;32m    275\u001B[0m         \u001B[38;5;28mself\u001B[39m\u001B[38;5;241m.\u001B[39mpkuseg_seg\u001B[38;5;241m.\u001B[39mpostprocesser\u001B[38;5;241m.\u001B[39mcommon_words \u001B[38;5;241m=\u001B[39m \u001B[38;5;28mset\u001B[39m(common_words)\n\u001B[1;32m    276\u001B[0m         \u001B[38;5;28mself\u001B[39m\u001B[38;5;241m.\u001B[39mpkuseg_seg\u001B[38;5;241m.\u001B[39mpostprocesser\u001B[38;5;241m.\u001B[39mother_words \u001B[38;5;241m=\u001B[39m \u001B[38;5;28mset\u001B[39m(other_words)\n\u001B[1;32m    278\u001B[0m serializers \u001B[38;5;241m=\u001B[39m {\n\u001B[1;32m    279\u001B[0m     \u001B[38;5;124m\"\u001B[39m\u001B[38;5;124mcfg\u001B[39m\u001B[38;5;124m\"\u001B[39m: \u001B[38;5;28;01mlambda\u001B[39;00m p: \u001B[38;5;28mself\u001B[39m\u001B[38;5;241m.\u001B[39m_set_config(srsly\u001B[38;5;241m.\u001B[39mread_json(p)),\n\u001B[0;32m--> 280\u001B[0m     \u001B[38;5;124m\"\u001B[39m\u001B[38;5;124mpkuseg_model\u001B[39m\u001B[38;5;124m\"\u001B[39m: \u001B[38;5;28;01mlambda\u001B[39;00m p: \u001B[43mload_pkuseg_model\u001B[49m\u001B[43m(\u001B[49m\u001B[43mp\u001B[49m\u001B[43m)\u001B[49m,\n\u001B[1;32m    281\u001B[0m     \u001B[38;5;124m\"\u001B[39m\u001B[38;5;124mpkuseg_processors\u001B[39m\u001B[38;5;124m\"\u001B[39m: \u001B[38;5;28;01mlambda\u001B[39;00m p: load_pkuseg_processors(p),\n\u001B[1;32m    282\u001B[0m }\n\u001B[1;32m    283\u001B[0m util\u001B[38;5;241m.\u001B[39mfrom_disk(path, serializers, [])\n",
      "File \u001B[0;32m~/Library/Python/3.9/lib/python/site-packages/spacy/lang/zh/__init__.py:257\u001B[0m, in \u001B[0;36mChineseTokenizer.from_disk.<locals>.load_pkuseg_model\u001B[0;34m(path)\u001B[0m\n\u001B[1;32m    255\u001B[0m \u001B[38;5;28;01mexcept\u001B[39;00m \u001B[38;5;167;01mImportError\u001B[39;00m:\n\u001B[1;32m    256\u001B[0m     \u001B[38;5;28;01mif\u001B[39;00m \u001B[38;5;28mself\u001B[39m\u001B[38;5;241m.\u001B[39msegmenter \u001B[38;5;241m==\u001B[39m Segmenter\u001B[38;5;241m.\u001B[39mpkuseg:\n\u001B[0;32m--> 257\u001B[0m         \u001B[38;5;28;01mraise\u001B[39;00m \u001B[38;5;167;01mImportError\u001B[39;00m(\n\u001B[1;32m    258\u001B[0m             \u001B[38;5;124m\"\u001B[39m\u001B[38;5;124mspacy-pkuseg not installed. To use this model, \u001B[39m\u001B[38;5;124m\"\u001B[39m\n\u001B[1;32m    259\u001B[0m             \u001B[38;5;241m+\u001B[39m _PKUSEG_INSTALL_MSG\n\u001B[1;32m    260\u001B[0m         ) \u001B[38;5;28;01mfrom\u001B[39;00m \u001B[38;5;28mNone\u001B[39m\n\u001B[1;32m    261\u001B[0m \u001B[38;5;28;01mif\u001B[39;00m path\u001B[38;5;241m.\u001B[39mexists():\n\u001B[1;32m    262\u001B[0m     \u001B[38;5;28mself\u001B[39m\u001B[38;5;241m.\u001B[39mpkuseg_seg \u001B[38;5;241m=\u001B[39m spacy_pkuseg\u001B[38;5;241m.\u001B[39mpkuseg(path)\n",
      "\u001B[0;31mImportError\u001B[0m: spacy-pkuseg not installed. To use this model, install spacy-pkuseg with `pip install \"spacy-pkuseg>=0.0.27,<0.1.0\"` or `conda install -c conda-forge \"spacy-pkuseg>=0.0.27,<0.1.0\"`"
     ]
    }
   ],
   "source": [
    "import spacy\n",
    "\n",
    "nlp = spacy.load('/opt/homebrew/Caskroom/miniconda/base/envs/mactalk/lib/python3.10/site-packages/zh_core_web_sm/zh_core_web_sm-3.5.0')\n",
    "text = \"下周三晚上给第二个Keynote定稿\"\n",
    "doc = nlp(text)\n",
    "print(doc)\n",
    "for ent in doc.ents:\n",
    "    print(ent.text, ent.start_char, ent.end_char, ent.label_)\n",
    "\n"
   ]
  },
  {
   "cell_type": "markdown",
   "metadata": {},
   "source": [
    "### 命名实体识别 - 模式匹配"
   ]
  },
  {
   "cell_type": "code",
   "execution_count": null,
   "metadata": {
    "ExecuteTime": {
     "start_time": "2023-07-08T06:03:31.902551Z"
    }
   },
   "outputs": [],
   "source": [
    "import re\n",
    "\n",
    "pattern = r'^\\d{12}[A-Z]{3}$' # 这个正则表达式匹配12个数字后跟3个大写字母\n",
    "\n",
    "text = \"你好，我有一个订单一直没有收到，订单号是202303251200ABC\"\n",
    "doc = nlp(text)\n",
    "for word in doc:\n",
    "    match = re.search(pattern, word.text)\n",
    "    if match:\n",
    "        print(\"订单号: \", match.group())"
   ]
  },
  {
   "cell_type": "markdown",
   "metadata": {},
   "source": [
    "### 命名实体识别 - 直接通过ChatGPT的API来做"
   ]
  },
  {
   "cell_type": "code",
   "execution_count": null,
   "metadata": {
    "ExecuteTime": {
     "start_time": "2023-07-08T06:03:31.905052Z"
    }
   },
   "outputs": [],
   "source": [
    "import openai, os\n",
    "openai.api_key = os.environ.get(\"OPENAI_API_KEY\")\n",
    "\n",
    "COMPLETION_MODEL = \"text-davinci-003\"\n",
    "def get_response(prompt, temperature = 1.0, stop=None):\n",
    "    completions = openai.Completion.create(\n",
    "        engine=COMPLETION_MODEL,\n",
    "        prompt=prompt,\n",
    "        max_tokens=1024,\n",
    "        n=1,\n",
    "        stop=stop,\n",
    "        temperature=temperature,\n",
    "    )\n",
    "    message = completions['choices'][0]['text']\n",
    "    return message\n",
    "\n",
    "text = \"你好，我有一个订单一直没有收到，订单号是202303251200ABC\"\n",
    "\n",
    "print(get_response(\"请从下面的文本中提取出用户的订单号，并以json形式显示：\\n\\n\" + text))"
   ]
  },
  {
   "cell_type": "markdown",
   "metadata": {},
   "source": [
    "### 分词找一些有用的关键词"
   ]
  },
  {
   "cell_type": "code",
   "execution_count": null,
   "metadata": {
    "ExecuteTime": {
     "start_time": "2023-07-08T06:03:31.907288Z"
    }
   },
   "outputs": [],
   "source": [
    "text = '''外形外观：紫色，非常大气，方方正正，四周圆角\n",
    "屏幕音效：清晰度分辨率都挺满意，听音乐效果也不错\n",
    "拍照效果：非常好\n",
    "运行速度：很流畅\n",
    "待机时间：之前的安卓手机用了近三年，一天3充，现在妥妥的一天一充'''\n",
    "\n",
    "useful_words_list = ['大气', '满意', '好', '流畅']\n",
    "\n",
    "doc = nlp(text)\n",
    "for word in doc:\n",
    "    if word.text in useful_words_list:\n",
    "        print(word)"
   ]
  },
  {
   "cell_type": "markdown",
   "metadata": {},
   "source": [
    "### 计算 N-Grams"
   ]
  },
  {
   "cell_type": "code",
   "execution_count": null,
   "metadata": {
    "ExecuteTime": {
     "start_time": "2023-07-08T06:03:31.910732Z"
    }
   },
   "outputs": [],
   "source": [
    "text = '''外形外观：紫色，非常大气，方方正正，四周圆角\n",
    "屏幕音效：清晰度分辨率都挺满意，听音乐效果也不错\n",
    "拍照效果：非常好\n",
    "运行速度：很流畅\n",
    "待机时间：之前的安卓手机用了近三年，一天3充，现在妥妥的一天一充'''\n",
    "\n",
    "from nltk.util import ngrams\n",
    "\n",
    "doc = nlp(text)\n",
    "\n",
    "words = []\n",
    "for word in doc:\n",
    "    words.append(word.text)\n",
    "\n",
    "list(ngrams(words, 2))\n"
   ]
  },
  {
   "cell_type": "code",
   "execution_count": null,
   "metadata": {
    "ExecuteTime": {
     "start_time": "2023-07-08T06:03:31.913747Z"
    }
   },
   "outputs": [],
   "source": [
    "list(ngrams(words, 3))"
   ]
  },
  {
   "cell_type": "markdown",
   "metadata": {},
   "source": [
    "### TF-IDF 演示"
   ]
  },
  {
   "cell_type": "code",
   "execution_count": null,
   "metadata": {
    "ExecuteTime": {
     "start_time": "2023-07-08T06:03:31.914948Z"
    }
   },
   "outputs": [],
   "source": [
    "doc_a = 'this document is first document'\n",
    "doc_b = 'this document is the second document'\n",
    "\n",
    "bag_of_words_a = doc_a.split(' ')\n",
    "bag_of_words_b = doc_b.split(' ')\n",
    "\n",
    "unique_words_set = set(bag_of_words_a).union(set(bag_of_words_b))\n",
    "print(unique_words_set)\n",
    "\n",
    "# Now create a dictionary of words and their occurence for each document in the corpus (collection of documents).\n",
    "\n",
    "dict_a = dict.fromkeys(unique_words_set, 0)\n",
    "print(dict_a) # {'this': 0, 'document': 0, 'second': 0, 'is': 0, 'the': 0}\n",
    "\n",
    "for word in bag_of_words_a:\n",
    "    dict_a[word] += 1\n",
    "\n",
    "print(dict_a)\n",
    "# {'this': 1, 'document': 2, 'second': 1, 'is': 1, 'the': 1}\n",
    "\n",
    "# similarly\n",
    "\n",
    "dict_b = dict.fromkeys(unique_words_set, 0)\n",
    "\n",
    "for word in bag_of_words_b:\n",
    "    dict_b[word] += 1\n",
    "\n",
    "print(dict_b)"
   ]
  },
  {
   "cell_type": "code",
   "execution_count": 34,
   "metadata": {
    "ExecuteTime": {
     "end_time": "2023-07-08T06:05:11.178022Z",
     "start_time": "2023-07-08T06:05:11.162391Z"
    }
   },
   "outputs": [
    {
     "name": "stdout",
     "output_type": "stream",
     "text": [
      "{'is': 0.2, 'document': 0.4, 'first': 0.2, 'second': 0.0, 'the': 0.0, 'this': 0.2}\n",
      "{'is': 0.16666666666666666, 'document': 0.3333333333333333, 'first': 0.0, 'second': 0.16666666666666666, 'the': 0.16666666666666666, 'this': 0.16666666666666666}\n"
     ]
    }
   ],
   "source": [
    "# 计算单词在句子中出现的概率\n",
    "# 计算词频（TF = term frequency）\n",
    "def compute_term_frequency(word_dictionary, bag_of_words):\n",
    "    term_frequency_dictionary = {}\n",
    "    length_of_bag_of_words = len(bag_of_words) # 5\n",
    "\n",
    "    for word, count in word_dictionary.items():\n",
    "        term_frequency_dictionary[word] = count / float(length_of_bag_of_words)\n",
    "\n",
    "    return term_frequency_dictionary\n",
    "\n",
    "# Implementation\n",
    "tf_a = compute_term_frequency(dict_a, bag_of_words_a)\n",
    "print(tf_a)\n",
    "\n",
    "tf_b = compute_term_frequency(dict_b, bag_of_words_b)\n",
    "print(tf_b)"
   ]
  },
  {
   "cell_type": "code",
   "execution_count": 40,
   "metadata": {
    "ExecuteTime": {
     "end_time": "2023-07-08T06:09:36.287939Z",
     "start_time": "2023-07-08T06:09:35.885023Z"
    }
   },
   "outputs": [
    {
     "name": "stdout",
     "output_type": "stream",
     "text": [
      "{\n",
      "  \"is\": 0.0,\n",
      "  \"document\": 0.0,\n",
      "  \"first\": 0.4054651081081644,\n",
      "  \"second\": 0.4054651081081644,\n",
      "  \"the\": 0.4054651081081644,\n",
      "  \"this\": 0.0\n",
      "}\n",
      "{\n",
      "  \"is\": 0.0,\n",
      "  \"document\": 0.0,\n",
      "  \"first\": 0.4054651081081644,\n",
      "  \"second\": 0.4054651081081644,\n",
      "  \"the\": 0.4054651081081644,\n",
      "  \"this\": 0.0\n",
      "}\n"
     ]
    }
   ],
   "source": [
    "import math\n",
    "# 计算逆文档频率\n",
    "def compute_inverse_document_frequency(full_doc_list):\n",
    "    idf_dict = {}\n",
    "    length_of_doc_list = len(full_doc_list) # 2\n",
    "\n",
    "    # Initialize dictionary with words from all documents 用所有文档中的单词初始化字典\n",
    "    idf_dict = dict.fromkeys(full_doc_list[0].keys(), 0)\n",
    "    \n",
    "    # Count the number of documents that contain each word 计算包含每个单词的文档数量\n",
    "    for doc in full_doc_list:\n",
    "        for word, val in doc.items():\n",
    "            if val > 0:\n",
    "                idf_dict[word] += 1\n",
    "\n",
    "    # Compute IDF for each word 计算每个单词的IDF\n",
    "    for word, val in idf_dict.items():\n",
    "        idf_dict[word] = math.log((length_of_doc_list+1) / (float(val) + 1))\n",
    "\n",
    "    return idf_dict\n",
    "\n",
    "final_idf_dict = compute_inverse_document_frequency([dict_a, dict_b])\n",
    "\n",
    "import json\n",
    "\n",
    "# Print the final_idf_dict dictionary in a pretty format\n",
    "print(json.dumps(final_idf_dict, indent=2))"
   ]
  },
  {
   "cell_type": "code",
   "execution_count": 38,
   "metadata": {},
   "outputs": [
    {
     "name": "stdout",
     "output_type": "stream",
     "text": [
      "{'is': 0.0, 'document': 0.0, 'first': 0.08109302162163289, 'second': 0.0, 'the': 0.0, 'this': 0.0}\n"
     ]
    }
   ],
   "source": [
    "# doc_a = 'this document is first document'\n",
    "# doc_b = 'this document is the second document'\n",
    "\n",
    "\n",
    "def calculate_tf_id(tf, idf):\n",
    "    tf_idf = {}\n",
    "    for word, val in tf.items():\n",
    "        tf_idf[word] = val * idf[word]\n",
    "    return tf_idf\n",
    "\n",
    "print(calculate_tf_id(tf_a, final_idf_dict))\n",
    "# print(calculate_tf_id(tf_b, final_idf_dict))\n"
   ]
  },
  {
   "cell_type": "markdown",
   "metadata": {},
   "source": [
    "### 直接使用TF/IDF的库"
   ]
  },
  {
   "cell_type": "code",
   "execution_count": 41,
   "metadata": {
    "ExecuteTime": {
     "end_time": "2023-07-08T06:11:50.034572Z",
     "start_time": "2023-07-08T06:11:47.433786Z"
    }
   },
   "outputs": [],
   "source": [
    "import pandas as pd\n",
    "import numpy as np\n",
    "\n",
    "datafile_path = \"data/fine_food_reviews_with_embeddings_1k.csv\"\n",
    "\n",
    "df = pd.read_csv(datafile_path)\n",
    "df['embedding'] = df.embedding.apply(eval).apply(np.array)"
   ]
  },
  {
   "cell_type": "code",
   "execution_count": 42,
   "metadata": {
    "ExecuteTime": {
     "end_time": "2023-07-08T06:11:50.080358Z",
     "start_time": "2023-07-08T06:11:50.039352Z"
    }
   },
   "outputs": [
    {
     "data": {
      "text/plain": "<bound method NDFrame.head of      Unnamed: 0   ProductId          UserId  Score  \\\n0             0  B003XPF9BO  A3R7JR3FMEBXQB      5   \n1           297  B003VXHGPK  A21VWSCGW7UUAR      4   \n2           296  B008JKTTUA  A34XBAIFT02B60      1   \n3           295  B000LKTTTW  A14MQ40CCU8B13      5   \n4           294  B001D09KAM  A34XBAIFT02B60      1   \n..          ...         ...             ...    ...   \n995         623  B0000CFXYA  A3GS4GWPIBV0NT      1   \n996         624  B0001BH5YM   A1BZ3HMAKK0NC      5   \n997         625  B0009ET7TC  A2FSDQY5AI6TNX      5   \n998         619  B007PA32L2  A15FF2P7RPKH6G      5   \n999         999  B001EQ5GEO  A3VYU0VO6DYV6I      5   \n\n                                               Summary  \\\n0    where does one  start...and stop... with a tre...   \n1                     Good, but not Wolfgang Puck good   \n2    Should advertise coconut as an ingredient more...   \n3                                     Best tomato soup   \n4    Should advertise coconut as an ingredient more...   \n..                                                 ...   \n995                      Strange inflammation response   \n996                      My favorite and only  MUSTARD   \n997                           My furbabies LOVE these!   \n998                          got this for the daughter   \n999                                I love Maui Coffee!   \n\n                                                  Text  \\\n0    Wanted to save some to bring to my Chicago fam...   \n1    Honestly, I have to admit that I expected a li...   \n2    First, these should be called Mac - Coconut ba...   \n3    I have a hard time finding packaged food of an...   \n4    First, these should be called Mac - Coconut ba...   \n..                                                 ...   \n995  Truthfully wasn't crazy about the taste of the...   \n996  You've just got to experience this mustard... ...   \n997  Shake the container and they come running. Eve...   \n998  all i have heard since she got a kuerig is why...   \n999  My first experience with Maui Coffee was bring...   \n\n                                              combined  n_tokens  \\\n0    Title: where does one  start...and stop... wit...        52   \n1    Title: Good, but not Wolfgang Puck good; Conte...       178   \n2    Title: Should advertise coconut as an ingredie...        78   \n3    Title: Best tomato soup; Content: I have a har...       111   \n4    Title: Should advertise coconut as an ingredie...        78   \n..                                                 ...       ...   \n995  Title: Strange inflammation response; Content:...       110   \n996  Title: My favorite and only  MUSTARD; Content:...        80   \n997  Title: My furbabies LOVE these!; Content: Shak...        47   \n998  Title: got this for the daughter; Content: all...        50   \n999  Title: I love Maui Coffee!; Content: My first ...       118   \n\n                                             embedding  \n0    [0.007018072064965963, -0.02731654793024063, 0...  \n1    [-0.003140551969408989, -0.009995664469897747,...  \n2    [-0.01757248118519783, -8.266511576948687e-05,...  \n3    [-0.0013932279543951154, -0.011112828738987446...  \n4    [-0.01757248118519783, -8.266511576948687e-05,...  \n..                                                 ...  \n995  [0.00011091353371739388, -0.00466986745595932,...  \n996  [-0.020869314670562744, -0.013138455338776112,...  \n997  [-0.009749102406203747, -0.0068712360225617886...  \n998  [-0.00521062919870019, 0.0009606690146028996, ...  \n999  [-0.006057822611182928, -0.015015840530395508,...  \n\n[1000 rows x 9 columns]>"
     },
     "execution_count": 42,
     "metadata": {},
     "output_type": "execute_result"
    }
   ],
   "source": [
    "df.head"
   ]
  },
  {
   "cell_type": "code",
   "execution_count": 43,
   "metadata": {
    "ExecuteTime": {
     "end_time": "2023-07-08T06:11:54.991329Z",
     "start_time": "2023-07-08T06:11:52.241532Z"
    }
   },
   "outputs": [
    {
     "name": "stdout",
     "output_type": "stream",
     "text": [
      "      12   13   21   31   32   34   40   50   51   60  ...  yogurt  yorkie  \\\n",
      "0    0.0  0.0  0.0  0.0  0.0  0.0  0.0  0.0  0.0  0.0  ...     0.0     0.0   \n",
      "1    0.0  0.0  0.0  0.0  0.0  0.0  0.0  0.0  0.0  0.0  ...     0.0     0.0   \n",
      "2    0.0  0.0  0.0  0.0  0.0  0.0  0.0  0.0  0.0  0.0  ...     0.0     0.0   \n",
      "3    0.0  0.0  0.0  0.0  0.0  0.0  0.0  0.0  0.0  0.0  ...     0.0     0.0   \n",
      "4    0.0  0.0  0.0  0.0  0.0  0.0  0.0  0.0  0.0  0.0  ...     0.0     0.0   \n",
      "..   ...  ...  ...  ...  ...  ...  ...  ...  ...  ...  ...     ...     ...   \n",
      "995  0.0  0.0  0.0  0.0  0.0  0.0  0.0  0.0  0.0  0.0  ...     0.0     0.0   \n",
      "996  0.0  0.0  0.0  0.0  0.0  0.0  0.0  0.0  0.0  0.0  ...     0.0     0.0   \n",
      "997  0.0  0.0  0.0  0.0  0.0  0.0  0.0  0.0  0.0  0.0  ...     0.0     0.0   \n",
      "998  0.0  0.0  0.0  0.0  0.0  0.0  0.0  0.0  0.0  0.0  ...     0.0     0.0   \n",
      "999  0.0  0.0  0.0  0.0  0.0  0.0  0.0  0.0  0.0  0.0  ...     0.0     0.0   \n",
      "\n",
      "     you  your  yuk  yum  yummmm  yummmmm  yummy  zipfizz  \n",
      "0    0.0   0.0  0.0  0.0     0.0      0.0    0.0      0.0  \n",
      "1    0.0   0.0  0.0  0.0     0.0      0.0    0.0      0.0  \n",
      "2    0.0   0.0  0.0  0.0     0.0      0.0    0.0      0.0  \n",
      "3    0.0   0.0  0.0  0.0     0.0      0.0    0.0      0.0  \n",
      "4    0.0   0.0  0.0  0.0     0.0      0.0    0.0      0.0  \n",
      "..   ...   ...  ...  ...     ...      ...    ...      ...  \n",
      "995  0.0   0.0  0.0  0.0     0.0      0.0    0.0      0.0  \n",
      "996  0.0   0.0  0.0  0.0     0.0      0.0    0.0      0.0  \n",
      "997  0.0   0.0  0.0  0.0     0.0      0.0    0.0      0.0  \n",
      "998  0.0   0.0  0.0  0.0     0.0      0.0    0.0      0.0  \n",
      "999  0.0   0.0  0.0  0.0     0.0      0.0    0.0      0.0  \n",
      "\n",
      "[1000 rows x 1038 columns]\n"
     ]
    }
   ],
   "source": [
    "from sklearn.feature_extraction.text import TfidfVectorizer\n",
    "\n",
    "corpus = df['Summary']\n",
    "vectorizer = TfidfVectorizer()\n",
    "tfidf_matrix = vectorizer.fit_transform(corpus) # 对corpus中的文本转换成TF-IDF矩阵\n",
    "tfidf_df = pd.DataFrame(tfidf_matrix.toarray(), columns=vectorizer.get_feature_names_out()) # 将稀疏矩阵 tfidf_matrix 转换成DataFrame 对象，get_feature_names_out 设置 DataFrame 列明，从文本数据中提取的特征词或术语\n",
    "print(tfidf_df)"
   ]
  },
  {
   "cell_type": "code",
   "execution_count": 48,
   "metadata": {},
   "outputs": [
    {
     "name": "stdout",
     "output_type": "stream",
     "text": [
      "Row 1: [('start', 0.394384915946285), ('stop', 0.394384915946285), ('where', 0.394384915946285), ('does', 0.35649943107170623), ('treat', 0.312176255125172)]\n",
      "Row 2: [('good', 0.5681028016321258), ('puck', 0.49441945926150405), ('wolfgang', 0.49441945926150405), ('but', 0.3153408915839207), ('not', 0.2981914242226147)]\n",
      "Row 3: [('advertise', 0.36559695823357646), ('ingredient', 0.36559695823357646), ('prominently', 0.36559695823357646), ('should', 0.36559695823357646), ('an', 0.3574098136743376)]\n",
      "Row 4: [('tomato', 0.6610768832907321), ('soup', 0.6331508937690398), ('best', 0.4026130898245583), ('12', 0.0), ('13', 0.0)]\n",
      "Row 5: [('advertise', 0.36559695823357646), ('ingredient', 0.36559695823357646), ('prominently', 0.36559695823357646), ('should', 0.36559695823357646), ('an', 0.3574098136743376)]\n"
     ]
    }
   ],
   "source": [
    "# 获取给定行的TF-IDF值最高的词与分数，并返回一个包含💰\n",
    "def get_top_n_words(row, tfidf_df, top_n=5):\n",
    "    # Get the words and corresponding tf-idf scores for the given row 获取给定行的单词和相应的tf-idf分数\n",
    "    words_and_scores = [(word, tfidf_df.loc[row, word]) for word in tfidf_df.columns]\n",
    "\n",
    "    # Sort the words by their tf-idf scores\n",
    "    words_and_scores.sort(key=lambda x: x[1], reverse=True)\n",
    "\n",
    "    # Get the top n words\n",
    "    top_n_words_and_scores = words_and_scores[:top_n]\n",
    "    \n",
    "    return top_n_words_and_scores\n",
    "\n",
    "# Print the highest tf-idf words and their scores for the first 5 rows 输出前5行中每行的最高TF-IDF词及其分数\n",
    "for i in range(5):\n",
    "    print(f\"Row {i+1}: {get_top_n_words(i, tfidf_df)}\")"
   ]
  },
  {
   "cell_type": "markdown",
   "source": [],
   "metadata": {
    "collapsed": false
   }
  },
  {
   "cell_type": "markdown",
   "metadata": {},
   "source": [
    "### Word2Vec的演示"
   ]
  },
  {
   "cell_type": "code",
   "execution_count": 7,
   "metadata": {
    "ExecuteTime": {
     "end_time": "2023-07-08T06:59:03.608766Z",
     "start_time": "2023-07-08T06:59:03.585225Z"
    }
   },
   "outputs": [
    {
     "ename": "ModuleNotFoundError",
     "evalue": "No module named 'gensim'",
     "output_type": "error",
     "traceback": [
      "\u001B[0;31m---------------------------------------------------------------------------\u001B[0m",
      "\u001B[0;31mModuleNotFoundError\u001B[0m                       Traceback (most recent call last)",
      "Cell \u001B[0;32mIn[7], line 4\u001B[0m\n\u001B[1;32m      1\u001B[0m \u001B[38;5;66;03m# Word2Vec 的模型文件请自行下载\u001B[39;00m\n\u001B[1;32m      2\u001B[0m \u001B[38;5;66;03m# https://drive.google.com/u/0/uc?id=0B7XkCwpI5KDYNlNUTTlSS21pQmM&export=download\u001B[39;00m\n\u001B[0;32m----> 4\u001B[0m \u001B[38;5;28;01mfrom\u001B[39;00m \u001B[38;5;21;01mgensim\u001B[39;00m\u001B[38;5;21;01m.\u001B[39;00m\u001B[38;5;21;01mmodels\u001B[39;00m \u001B[38;5;28;01mimport\u001B[39;00m KeyedVectors\n\u001B[1;32m      5\u001B[0m model \u001B[38;5;241m=\u001B[39m KeyedVectors\u001B[38;5;241m.\u001B[39mload_word2vec_format(\u001B[38;5;124m'\u001B[39m\u001B[38;5;124mdata/GoogleNews-vectors-negative300.bin.gz\u001B[39m\u001B[38;5;124m'\u001B[39m, binary\u001B[38;5;241m=\u001B[39m\u001B[38;5;28;01mTrue\u001B[39;00m)\n",
      "\u001B[0;31mModuleNotFoundError\u001B[0m: No module named 'gensim'"
     ]
    }
   ],
   "source": [
    "# Word2Vec 的模型文件请自行下载\n",
    "# https://drive.google.com/u/0/uc?id=0B7XkCwpI5KDYNlNUTTlSS21pQmM&export=download\n",
    "\n",
    "from gensim.models import KeyedVectors\n",
    "model = KeyedVectors.load_word2vec_format('data/GoogleNews-vectors-negative300.bin.gz', binary=True)"
   ]
  },
  {
   "cell_type": "code",
   "execution_count": null,
   "metadata": {
    "ExecuteTime": {
     "start_time": "2023-07-08T06:03:31.927988Z"
    }
   },
   "outputs": [],
   "source": [
    "result = model.most_similar(positive=['woman', 'king'], negative=['man'])\n",
    "print(result)"
   ]
  },
  {
   "cell_type": "code",
   "execution_count": null,
   "metadata": {
    "ExecuteTime": {
     "start_time": "2023-07-08T06:03:31.928896Z"
    }
   },
   "outputs": [],
   "source": [
    "vector = model['king']\n",
    "print(vector)"
   ]
  },
  {
   "cell_type": "code",
   "execution_count": null,
   "metadata": {
    "ExecuteTime": {
     "start_time": "2023-07-08T06:03:31.930201Z"
    }
   },
   "outputs": [],
   "source": [
    "# 词向量的加减法\n",
    "# Rome - Italy + France = ?\n",
    "result = model.most_similar(positive=['Rome', 'France'], negative=['Italy'])\n",
    "print(result)"
   ]
  },
  {
   "cell_type": "code",
   "execution_count": null,
   "metadata": {
    "ExecuteTime": {
     "start_time": "2023-07-08T06:03:31.931382Z"
    }
   },
   "outputs": [],
   "source": [
    "result = model.most_similar(\"cat\")\n",
    "print(result)"
   ]
  },
  {
   "cell_type": "markdown",
   "metadata": {},
   "source": [
    "### PCA降维，展示不同词之间的二维关系"
   ]
  },
  {
   "cell_type": "code",
   "execution_count": 8,
   "metadata": {
    "ExecuteTime": {
     "end_time": "2023-07-08T07:05:30.640559Z",
     "start_time": "2023-07-08T07:05:29.054658Z"
    }
   },
   "outputs": [],
   "source": [
    "import matplotlib.pyplot as plt\n",
    "from sklearn.decomposition import PCA\n",
    "\n",
    "def visualize_words(words):\n",
    "    # Get the vectors for the words\n",
    "    vectors = [model[word] for word in words]\n",
    "\n",
    "    # Create a PCA object and fit_transform the vectors\n",
    "    pca = PCA(n_components=2)\n",
    "    pca_result = pca.fit_transform(vectors)\n",
    "\n",
    "    # Create a color map\n",
    "    colors = [\"b\", \"g\", \"r\", \"c\"]\n",
    "\n",
    "    # Plot each word in 2D space using PCA results\n",
    "    for i, word in enumerate(words):\n",
    "        plt.scatter(pca_result[i, 0], pca_result[i, 1], c=colors[i], label=word)\n",
    "        plt.annotate(word, xy=(pca_result[i, 0], pca_result[i, 1]))\n",
    "\n",
    "    plt.legend()\n",
    "    plt.show()"
   ]
  },
  {
   "cell_type": "code",
   "execution_count": 9,
   "metadata": {
    "ExecuteTime": {
     "end_time": "2023-07-08T07:08:30.900738Z",
     "start_time": "2023-07-08T07:08:30.890480Z"
    }
   },
   "outputs": [
    {
     "ename": "NameError",
     "evalue": "name 'model' is not defined",
     "output_type": "error",
     "traceback": [
      "\u001B[0;31m---------------------------------------------------------------------------\u001B[0m",
      "\u001B[0;31mNameError\u001B[0m                                 Traceback (most recent call last)",
      "Cell \u001B[0;32mIn[9], line 3\u001B[0m\n\u001B[1;32m      1\u001B[0m \u001B[38;5;66;03m# List of words to visualize\u001B[39;00m\n\u001B[1;32m      2\u001B[0m words \u001B[38;5;241m=\u001B[39m [\u001B[38;5;124m\"\u001B[39m\u001B[38;5;124mqueen\u001B[39m\u001B[38;5;124m\"\u001B[39m, \u001B[38;5;124m\"\u001B[39m\u001B[38;5;124mking\u001B[39m\u001B[38;5;124m\"\u001B[39m, \u001B[38;5;124m\"\u001B[39m\u001B[38;5;124mgirl\u001B[39m\u001B[38;5;124m\"\u001B[39m, \u001B[38;5;124m\"\u001B[39m\u001B[38;5;124mboy\u001B[39m\u001B[38;5;124m\"\u001B[39m]\n\u001B[0;32m----> 3\u001B[0m \u001B[43mvisualize_words\u001B[49m\u001B[43m(\u001B[49m\u001B[43mwords\u001B[49m\u001B[43m)\u001B[49m\n",
      "Cell \u001B[0;32mIn[8], line 6\u001B[0m, in \u001B[0;36mvisualize_words\u001B[0;34m(words)\u001B[0m\n\u001B[1;32m      4\u001B[0m \u001B[38;5;28;01mdef\u001B[39;00m \u001B[38;5;21mvisualize_words\u001B[39m(words):\n\u001B[1;32m      5\u001B[0m     \u001B[38;5;66;03m# Get the vectors for the words\u001B[39;00m\n\u001B[0;32m----> 6\u001B[0m     vectors \u001B[38;5;241m=\u001B[39m [model[word] \u001B[38;5;28;01mfor\u001B[39;00m word \u001B[38;5;129;01min\u001B[39;00m words]\n\u001B[1;32m      8\u001B[0m     \u001B[38;5;66;03m# Create a PCA object and fit_transform the vectors\u001B[39;00m\n\u001B[1;32m      9\u001B[0m     pca \u001B[38;5;241m=\u001B[39m PCA(n_components\u001B[38;5;241m=\u001B[39m\u001B[38;5;241m2\u001B[39m)\n",
      "Cell \u001B[0;32mIn[8], line 6\u001B[0m, in \u001B[0;36m<listcomp>\u001B[0;34m(.0)\u001B[0m\n\u001B[1;32m      4\u001B[0m \u001B[38;5;28;01mdef\u001B[39;00m \u001B[38;5;21mvisualize_words\u001B[39m(words):\n\u001B[1;32m      5\u001B[0m     \u001B[38;5;66;03m# Get the vectors for the words\u001B[39;00m\n\u001B[0;32m----> 6\u001B[0m     vectors \u001B[38;5;241m=\u001B[39m [\u001B[43mmodel\u001B[49m[word] \u001B[38;5;28;01mfor\u001B[39;00m word \u001B[38;5;129;01min\u001B[39;00m words]\n\u001B[1;32m      8\u001B[0m     \u001B[38;5;66;03m# Create a PCA object and fit_transform the vectors\u001B[39;00m\n\u001B[1;32m      9\u001B[0m     pca \u001B[38;5;241m=\u001B[39m PCA(n_components\u001B[38;5;241m=\u001B[39m\u001B[38;5;241m2\u001B[39m)\n",
      "\u001B[0;31mNameError\u001B[0m: name 'model' is not defined"
     ]
    }
   ],
   "source": [
    "# List of words to visualize\n",
    "words = [\"queen\", \"king\", \"girl\", \"boy\"]\n",
    "visualize_words(words)"
   ]
  },
  {
   "cell_type": "code",
   "execution_count": null,
   "metadata": {
    "ExecuteTime": {
     "start_time": "2023-07-08T06:03:31.936248Z"
    }
   },
   "outputs": [],
   "source": [
    "# List of words to visualize\n",
    "words = [\"Italy\", \"France\", \"Rome\", \"Paris\"]\n",
    "visualize_words(words)"
   ]
  },
  {
   "cell_type": "code",
   "execution_count": null,
   "metadata": {
    "ExecuteTime": {
     "start_time": "2023-07-08T06:03:31.937632Z"
    }
   },
   "outputs": [],
   "source": [
    "import matplotlib.pyplot as plt\n",
    "import numpy as np\n",
    "\n",
    "def colorize_words(words, vectors):\n",
    "    # 创建色带图的颜色映射\n",
    "    cmap = plt.get_cmap('bwr')\n",
    "\n",
    "    # 创建一个子图的网格，每行一个子图\n",
    "    fig, axs = plt.subplots(len(words), 1, figsize=(12, 2*len(words)))\n",
    "\n",
    "    for ax, word, vector in zip(axs, words, vectors):\n",
    "        # 获取词向量并调整为二维\n",
    "        matrix = np.array(vector).reshape(1, -1)\n",
    "\n",
    "        # 在子图上显示色带图\n",
    "        img = ax.imshow(matrix, cmap=cmap, aspect='auto')\n",
    "\n",
    "        # 隐藏y轴\n",
    "        ax.set_yticks([])\n",
    "\n",
    "        # 为子图添加标题\n",
    "        ax.set_title(f\"Word Vector for '{word}'\")\n",
    "        ax.set_xlabel('Dimensions')\n",
    "\n",
    "    plt.tight_layout()\n",
    "\n",
    "    # 调整子图和colorbar的位置\n",
    "    fig.subplots_adjust(right=0.85)  # leave some space for the colorbar\n",
    "    cbar_ax = fig.add_axes([0.9, 0.15, 0.05, 0.7])  # position of the colorbar\n",
    "    fig.colorbar(img, cax=cbar_ax, label='Value')\n",
    "\n",
    "    plt.show()\n",
    "\n",
    "\n",
    "# 词列表\n",
    "words = [\"king\", \"queen\", \"boy\", \"girl\", \"man\", \"woman\"]\n",
    "vectors = [model[word] for word in words]\n",
    "colorize_words(words, vectors)\n"
   ]
  },
  {
   "cell_type": "code",
   "execution_count": null,
   "metadata": {
    "ExecuteTime": {
     "start_time": "2023-07-08T06:03:31.938704Z"
    }
   },
   "outputs": [],
   "source": [
    "\n",
    "\n",
    "# 词列表\n",
    "words = [\"king\", \"queen\"]\n",
    "vectors = [model[word] for word in words]\n",
    "\n",
    "\n",
    "words.append(\"king-boy+girl\")\n",
    "vector = model[\"king\"] - model[\"boy\"] + model[\"girl\"]\n",
    "vectors.append(vector)\n",
    "colorize_words(words, vectors)"
   ]
  },
  {
   "cell_type": "code",
   "execution_count": null,
   "metadata": {
    "ExecuteTime": {
     "start_time": "2023-07-08T06:03:31.939595Z"
    }
   },
   "outputs": [],
   "source": [
    "similarity = model.cosine_similarities(model['queen'], [vector])\n",
    "print(f\"Cosine similarity between 'queen' and 'king - boy + girl': {similarity[0]}\")\n"
   ]
  },
  {
   "cell_type": "code",
   "execution_count": null,
   "metadata": {
    "ExecuteTime": {
     "start_time": "2023-07-08T06:03:31.940355Z"
    }
   },
   "outputs": [],
   "source": [
    "similarity = model.cosine_similarities(model['queen'], [model['king']])\n",
    "print(f\"Cosine similarity between 'queen' and 'king': {similarity[0]}\")\n",
    "\n",
    "similarity = model.cosine_similarities(model['queen'], [model['girl']])\n",
    "print(f\"Cosine similarity between 'queen' and 'girl': {similarity[0]}\")\n",
    "\n",
    "\n",
    "similarity = model.cosine_similarities(model['queen'], [model['boy']])\n",
    "print(f\"Cosine similarity between 'queen' and 'boy': {similarity[0]}\")\n",
    "\n",
    "\n",
    "similarity = model.cosine_similarities(model['queen'], [model['paris']])\n",
    "print(f\"Cosine similarity between 'queen' and 'paris': {similarity[0]}\")\n"
   ]
  },
  {
   "cell_type": "markdown",
   "metadata": {},
   "source": [
    "### 直接通过 Word2Vec 做情感分析"
   ]
  },
  {
   "cell_type": "code",
   "execution_count": 10,
   "metadata": {
    "ExecuteTime": {
     "end_time": "2023-07-08T07:15:44.708007Z",
     "start_time": "2023-07-08T07:15:41.802782Z"
    }
   },
   "outputs": [],
   "source": [
    "import pandas as pd\n",
    "import numpy as np\n",
    "\n",
    "datafile_path = \"data/fine_food_reviews_with_embeddings_1k.csv\"\n",
    "\n",
    "df = pd.read_csv(datafile_path)\n",
    "df['embedding'] = df.embedding.apply(eval).apply(np.array)"
   ]
  },
  {
   "cell_type": "code",
   "execution_count": 11,
   "metadata": {
    "ExecuteTime": {
     "end_time": "2023-07-08T07:15:44.723226Z",
     "start_time": "2023-07-08T07:15:44.709177Z"
    }
   },
   "outputs": [
    {
     "data": {
      "text/plain": "   Unnamed: 0   ProductId          UserId  Score  \\\n0           0  B003XPF9BO  A3R7JR3FMEBXQB      5   \n1         297  B003VXHGPK  A21VWSCGW7UUAR      4   \n2         296  B008JKTTUA  A34XBAIFT02B60      1   \n3         295  B000LKTTTW  A14MQ40CCU8B13      5   \n4         294  B001D09KAM  A34XBAIFT02B60      1   \n\n                                             Summary  \\\n0  where does one  start...and stop... with a tre...   \n1                   Good, but not Wolfgang Puck good   \n2  Should advertise coconut as an ingredient more...   \n3                                   Best tomato soup   \n4  Should advertise coconut as an ingredient more...   \n\n                                                Text  \\\n0  Wanted to save some to bring to my Chicago fam...   \n1  Honestly, I have to admit that I expected a li...   \n2  First, these should be called Mac - Coconut ba...   \n3  I have a hard time finding packaged food of an...   \n4  First, these should be called Mac - Coconut ba...   \n\n                                            combined  n_tokens  \\\n0  Title: where does one  start...and stop... wit...        52   \n1  Title: Good, but not Wolfgang Puck good; Conte...       178   \n2  Title: Should advertise coconut as an ingredie...        78   \n3  Title: Best tomato soup; Content: I have a har...       111   \n4  Title: Should advertise coconut as an ingredie...        78   \n\n                                           embedding  \n0  [0.007018072064965963, -0.02731654793024063, 0...  \n1  [-0.003140551969408989, -0.009995664469897747,...  \n2  [-0.01757248118519783, -8.266511576948687e-05,...  \n3  [-0.0013932279543951154, -0.011112828738987446...  \n4  [-0.01757248118519783, -8.266511576948687e-05,...  ",
      "text/html": "<div>\n<style scoped>\n    .dataframe tbody tr th:only-of-type {\n        vertical-align: middle;\n    }\n\n    .dataframe tbody tr th {\n        vertical-align: top;\n    }\n\n    .dataframe thead th {\n        text-align: right;\n    }\n</style>\n<table border=\"1\" class=\"dataframe\">\n  <thead>\n    <tr style=\"text-align: right;\">\n      <th></th>\n      <th>Unnamed: 0</th>\n      <th>ProductId</th>\n      <th>UserId</th>\n      <th>Score</th>\n      <th>Summary</th>\n      <th>Text</th>\n      <th>combined</th>\n      <th>n_tokens</th>\n      <th>embedding</th>\n    </tr>\n  </thead>\n  <tbody>\n    <tr>\n      <th>0</th>\n      <td>0</td>\n      <td>B003XPF9BO</td>\n      <td>A3R7JR3FMEBXQB</td>\n      <td>5</td>\n      <td>where does one  start...and stop... with a tre...</td>\n      <td>Wanted to save some to bring to my Chicago fam...</td>\n      <td>Title: where does one  start...and stop... wit...</td>\n      <td>52</td>\n      <td>[0.007018072064965963, -0.02731654793024063, 0...</td>\n    </tr>\n    <tr>\n      <th>1</th>\n      <td>297</td>\n      <td>B003VXHGPK</td>\n      <td>A21VWSCGW7UUAR</td>\n      <td>4</td>\n      <td>Good, but not Wolfgang Puck good</td>\n      <td>Honestly, I have to admit that I expected a li...</td>\n      <td>Title: Good, but not Wolfgang Puck good; Conte...</td>\n      <td>178</td>\n      <td>[-0.003140551969408989, -0.009995664469897747,...</td>\n    </tr>\n    <tr>\n      <th>2</th>\n      <td>296</td>\n      <td>B008JKTTUA</td>\n      <td>A34XBAIFT02B60</td>\n      <td>1</td>\n      <td>Should advertise coconut as an ingredient more...</td>\n      <td>First, these should be called Mac - Coconut ba...</td>\n      <td>Title: Should advertise coconut as an ingredie...</td>\n      <td>78</td>\n      <td>[-0.01757248118519783, -8.266511576948687e-05,...</td>\n    </tr>\n    <tr>\n      <th>3</th>\n      <td>295</td>\n      <td>B000LKTTTW</td>\n      <td>A14MQ40CCU8B13</td>\n      <td>5</td>\n      <td>Best tomato soup</td>\n      <td>I have a hard time finding packaged food of an...</td>\n      <td>Title: Best tomato soup; Content: I have a har...</td>\n      <td>111</td>\n      <td>[-0.0013932279543951154, -0.011112828738987446...</td>\n    </tr>\n    <tr>\n      <th>4</th>\n      <td>294</td>\n      <td>B001D09KAM</td>\n      <td>A34XBAIFT02B60</td>\n      <td>1</td>\n      <td>Should advertise coconut as an ingredient more...</td>\n      <td>First, these should be called Mac - Coconut ba...</td>\n      <td>Title: Should advertise coconut as an ingredie...</td>\n      <td>78</td>\n      <td>[-0.01757248118519783, -8.266511576948687e-05,...</td>\n    </tr>\n  </tbody>\n</table>\n</div>"
     },
     "execution_count": 11,
     "metadata": {},
     "output_type": "execute_result"
    }
   ],
   "source": [
    "df.head()"
   ]
  },
  {
   "cell_type": "code",
   "execution_count": 12,
   "metadata": {
    "ExecuteTime": {
     "end_time": "2023-07-08T07:15:58.433911Z",
     "start_time": "2023-07-08T07:15:58.399105Z"
    }
   },
   "outputs": [
    {
     "ename": "ModuleNotFoundError",
     "evalue": "No module named 'gensim'",
     "output_type": "error",
     "traceback": [
      "\u001B[0;31m---------------------------------------------------------------------------\u001B[0m",
      "\u001B[0;31mModuleNotFoundError\u001B[0m                       Traceback (most recent call last)",
      "Cell \u001B[0;32mIn[12], line 1\u001B[0m\n\u001B[0;32m----> 1\u001B[0m \u001B[38;5;28;01mfrom\u001B[39;00m \u001B[38;5;21;01mgensim\u001B[39;00m\u001B[38;5;21;01m.\u001B[39;00m\u001B[38;5;21;01mmodels\u001B[39;00m \u001B[38;5;28;01mimport\u001B[39;00m KeyedVectors\n\u001B[1;32m      2\u001B[0m model \u001B[38;5;241m=\u001B[39m KeyedVectors\u001B[38;5;241m.\u001B[39mload_word2vec_format(\u001B[38;5;124m'\u001B[39m\u001B[38;5;124mdata/GoogleNews-vectors-negative300.bin.gz\u001B[39m\u001B[38;5;124m'\u001B[39m, binary\u001B[38;5;241m=\u001B[39m\u001B[38;5;28;01mTrue\u001B[39;00m)\n\u001B[1;32m      4\u001B[0m \u001B[38;5;28;01mdef\u001B[39;00m \u001B[38;5;21mget_word2vec\u001B[39m(line):\n",
      "\u001B[0;31mModuleNotFoundError\u001B[0m: No module named 'gensim'"
     ]
    }
   ],
   "source": [
    "from gensim.models import KeyedVectors\n",
    "model = KeyedVectors.load_word2vec_format('data/GoogleNews-vectors-negative300.bin.gz', binary=True)\n",
    "\n",
    "def get_word2vec(line):\n",
    "    vec = np.zeros(300)\n",
    "    count = 0\n",
    "    for word in line.split():\n",
    "        if word in model:\n",
    "            vec += model[word]\n",
    "            count += 1\n",
    "    vec /= count\n",
    "    return vec\n",
    "\n",
    "df[\"word2vec\"] = df.combined.apply(get_word2vec)\n",
    "df = df[df.Score != 3]\n",
    "df[\"sentiment\"] = df.Score.replace({1: \"negative\", 2: \"negative\", 4: \"positive\", 5: \"positive\"})"
   ]
  },
  {
   "cell_type": "code",
   "execution_count": null,
   "metadata": {
    "ExecuteTime": {
     "start_time": "2023-07-08T06:03:32.029559Z"
    }
   },
   "outputs": [],
   "source": [
    "df.head()"
   ]
  },
  {
   "cell_type": "code",
   "execution_count": 14,
   "metadata": {
    "ExecuteTime": {
     "end_time": "2023-07-08T07:31:14.116913Z",
     "start_time": "2023-07-08T07:31:13.830676Z"
    }
   },
   "outputs": [
    {
     "ename": "AttributeError",
     "evalue": "'DataFrame' object has no attribute 'word2vec'",
     "output_type": "error",
     "traceback": [
      "\u001B[0;31m---------------------------------------------------------------------------\u001B[0m",
      "\u001B[0;31mAttributeError\u001B[0m                            Traceback (most recent call last)",
      "Cell \u001B[0;32mIn[14], line 11\u001B[0m\n\u001B[1;32m      4\u001B[0m \u001B[38;5;28;01mfrom\u001B[39;00m \u001B[38;5;21;01msklearn\u001B[39;00m\u001B[38;5;21;01m.\u001B[39;00m\u001B[38;5;21;01mmetrics\u001B[39;00m \u001B[38;5;28;01mimport\u001B[39;00m classification_report, accuracy_score\n\u001B[1;32m      6\u001B[0m \u001B[38;5;66;03m# list(df.word2vec.values)表示将词向量列转换为列表形式作为特征X\u001B[39;00m\n\u001B[1;32m      7\u001B[0m \u001B[38;5;66;03m# df.sentiment表示情感标签作为目标变量y\u001B[39;00m\n\u001B[1;32m      8\u001B[0m \u001B[38;5;66;03m# test_size=0.2表示将数据集的20%用于测试，而80%用于训练\u001B[39;00m\n\u001B[1;32m      9\u001B[0m \u001B[38;5;66;03m# random_state=42表示设置随机种子，以确保划分结果可重现。\u001B[39;00m\n\u001B[1;32m     10\u001B[0m X_train, X_test, y_train, y_test \u001B[38;5;241m=\u001B[39m train_test_split(\n\u001B[0;32m---> 11\u001B[0m     \u001B[38;5;28mlist\u001B[39m(\u001B[43mdf\u001B[49m\u001B[38;5;241;43m.\u001B[39;49m\u001B[43mword2vec\u001B[49m\u001B[38;5;241m.\u001B[39mvalues), df\u001B[38;5;241m.\u001B[39msentiment, test_size\u001B[38;5;241m=\u001B[39m\u001B[38;5;241m0.2\u001B[39m, random_state\u001B[38;5;241m=\u001B[39m\u001B[38;5;241m42\u001B[39m\n\u001B[1;32m     12\u001B[0m )\n\u001B[1;32m     14\u001B[0m \u001B[38;5;66;03m# 创建一个LogisticRegression对象clf，并使用训练集的特征X_train和目标变量y_train来拟合（训练）模型。\u001B[39;00m\n\u001B[1;32m     15\u001B[0m clf \u001B[38;5;241m=\u001B[39m LogisticRegression()\n",
      "File \u001B[0;32m~/Library/Python/3.9/lib/python/site-packages/pandas/core/generic.py:5902\u001B[0m, in \u001B[0;36mNDFrame.__getattr__\u001B[0;34m(self, name)\u001B[0m\n\u001B[1;32m   5895\u001B[0m \u001B[38;5;28;01mif\u001B[39;00m (\n\u001B[1;32m   5896\u001B[0m     name \u001B[38;5;129;01mnot\u001B[39;00m \u001B[38;5;129;01min\u001B[39;00m \u001B[38;5;28mself\u001B[39m\u001B[38;5;241m.\u001B[39m_internal_names_set\n\u001B[1;32m   5897\u001B[0m     \u001B[38;5;129;01mand\u001B[39;00m name \u001B[38;5;129;01mnot\u001B[39;00m \u001B[38;5;129;01min\u001B[39;00m \u001B[38;5;28mself\u001B[39m\u001B[38;5;241m.\u001B[39m_metadata\n\u001B[1;32m   5898\u001B[0m     \u001B[38;5;129;01mand\u001B[39;00m name \u001B[38;5;129;01mnot\u001B[39;00m \u001B[38;5;129;01min\u001B[39;00m \u001B[38;5;28mself\u001B[39m\u001B[38;5;241m.\u001B[39m_accessors\n\u001B[1;32m   5899\u001B[0m     \u001B[38;5;129;01mand\u001B[39;00m \u001B[38;5;28mself\u001B[39m\u001B[38;5;241m.\u001B[39m_info_axis\u001B[38;5;241m.\u001B[39m_can_hold_identifiers_and_holds_name(name)\n\u001B[1;32m   5900\u001B[0m ):\n\u001B[1;32m   5901\u001B[0m     \u001B[38;5;28;01mreturn\u001B[39;00m \u001B[38;5;28mself\u001B[39m[name]\n\u001B[0;32m-> 5902\u001B[0m \u001B[38;5;28;01mreturn\u001B[39;00m \u001B[38;5;28;43mobject\u001B[39;49m\u001B[38;5;241;43m.\u001B[39;49m\u001B[38;5;21;43m__getattribute__\u001B[39;49m\u001B[43m(\u001B[49m\u001B[38;5;28;43mself\u001B[39;49m\u001B[43m,\u001B[49m\u001B[43m \u001B[49m\u001B[43mname\u001B[49m\u001B[43m)\u001B[49m\n",
      "\u001B[0;31mAttributeError\u001B[0m: 'DataFrame' object has no attribute 'word2vec'"
     ]
    }
   ],
   "source": [
    "from sklearn.linear_model import LogisticRegression\n",
    "from sklearn.model_selection import train_test_split\n",
    "from sklearn.metrics import classification_report, accuracy_score\n",
    "\n",
    "X_train, X_test, y_train, y_test = train_test_split(\n",
    "    list(df.word2vec.values), df.sentiment, test_size=0.2, random_state=42\n",
    ")\n",
    "\n",
    "clf = LogisticRegression()\n",
    "clf.fit(X_train, y_train)\n",
    "preds = clf.predict(X_test)\n",
    "probas = clf.predict_proba(X_test)\n",
    "\n",
    "report = classification_report(y_test, preds)\n",
    "print(report)\n"
   ]
  },
  {
   "cell_type": "markdown",
   "metadata": {},
   "source": [
    "### 对比Fasttext效果"
   ]
  },
  {
   "cell_type": "code",
   "execution_count": null,
   "metadata": {
    "ExecuteTime": {
     "start_time": "2023-07-08T06:03:32.029776Z"
    }
   },
   "outputs": [],
   "source": [
    "# 模型文件下载地址 https://fasttext.cc/docs/en/crawl-vectors.html\n",
    "# 或者 链接: https://pan.baidu.com/s/1Cl0eFNLOkQqquf9ls0trEw 提取码: jvr4\n",
    "\n",
    "import gensim\n",
    "import numpy as np\n",
    "# Load the FastText pre-trained model\n",
    "model = gensim.models.fasttext.load_facebook_model('data/cc.en.300.bin')\n",
    "\n",
    "def get_fasttext(line):\n",
    "    vec = np.zeros(300) # Initialize an empty 300-dimensional vector\n",
    "    for word in line.split():\n",
    "        vec += model.wv[word]\n",
    "    vec /= len(line.split()) # Take the average over all words in the line\n",
    "    return vec\n",
    "\n",
    "df[\"fasttext\"] = df.combined.apply(get_fasttext)\n"
   ]
  },
  {
   "cell_type": "code",
   "execution_count": null,
   "metadata": {
    "ExecuteTime": {
     "start_time": "2023-07-08T06:03:32.029859Z"
    }
   },
   "outputs": [],
   "source": [
    "df.head()"
   ]
  },
  {
   "cell_type": "code",
   "execution_count": null,
   "metadata": {
    "ExecuteTime": {
     "start_time": "2023-07-08T06:03:32.029941Z"
    }
   },
   "outputs": [],
   "source": [
    "\n",
    "X_train, X_test, y_train, y_test = train_test_split(\n",
    "    list(df.fasttext.values), df.sentiment, test_size=0.2, random_state=42\n",
    ")\n",
    "\n",
    "clf = LogisticRegression()\n",
    "clf.fit(X_train, y_train)\n",
    "preds = clf.predict(X_test)\n",
    "probas = clf.predict_proba(X_test)\n",
    "\n",
    "report = classification_report(y_test, preds)\n",
    "print(report)\n"
   ]
  },
  {
   "cell_type": "markdown",
   "metadata": {},
   "source": [
    "### 对比OpenAI的Embedding的效果"
   ]
  },
  {
   "cell_type": "code",
   "execution_count": 13,
   "metadata": {
    "ExecuteTime": {
     "end_time": "2023-07-08T07:30:59.922840Z",
     "start_time": "2023-07-08T07:30:59.906593Z"
    }
   },
   "outputs": [
    {
     "ename": "NameError",
     "evalue": "name 'train_test_split' is not defined",
     "output_type": "error",
     "traceback": [
      "\u001B[0;31m---------------------------------------------------------------------------\u001B[0m",
      "\u001B[0;31mNameError\u001B[0m                                 Traceback (most recent call last)",
      "Cell \u001B[0;32mIn[13], line 1\u001B[0m\n\u001B[0;32m----> 1\u001B[0m X_train, X_test, y_train, y_test \u001B[38;5;241m=\u001B[39m \u001B[43mtrain_test_split\u001B[49m(\n\u001B[1;32m      2\u001B[0m     \u001B[38;5;28mlist\u001B[39m(df\u001B[38;5;241m.\u001B[39membedding\u001B[38;5;241m.\u001B[39mvalues), df\u001B[38;5;241m.\u001B[39msentiment, test_size\u001B[38;5;241m=\u001B[39m\u001B[38;5;241m0.2\u001B[39m, random_state\u001B[38;5;241m=\u001B[39m\u001B[38;5;241m42\u001B[39m\n\u001B[1;32m      3\u001B[0m )\n\u001B[1;32m      5\u001B[0m clf \u001B[38;5;241m=\u001B[39m LogisticRegression()\n\u001B[1;32m      6\u001B[0m clf\u001B[38;5;241m.\u001B[39mfit(X_train, y_train)\n",
      "\u001B[0;31mNameError\u001B[0m: name 'train_test_split' is not defined"
     ]
    }
   ],
   "source": [
    "\n",
    "X_train, X_test, y_train, y_test = train_test_split(\n",
    "    list(df.embedding.values), df.sentiment, test_size=0.2, random_state=42\n",
    ")\n",
    "\n",
    "clf = LogisticRegression()\n",
    "clf.fit(X_train, y_train)\n",
    "preds = clf.predict(X_test)\n",
    "probas = clf.predict_proba(X_test)\n",
    "\n",
    "report = classification_report(y_test, preds)\n",
    "print(report)"
   ]
  },
  {
   "cell_type": "markdown",
   "metadata": {},
   "source": [
    "### 使用Gensim的Doc2Vec训练一个Doc Vector"
   ]
  },
  {
   "cell_type": "code",
   "execution_count": null,
   "metadata": {
    "ExecuteTime": {
     "start_time": "2023-07-08T06:03:32.030096Z"
    }
   },
   "outputs": [],
   "source": [
    "import gensim\n",
    "from gensim.models.doc2vec import TaggedDocument\n",
    "\n",
    "# Prepare the data for Doc2Vec\n",
    "documents = [TaggedDocument(doc, [i]) for i, doc in enumerate(df['combined'].apply(str.split))]\n",
    "\n",
    "# Train a Doc2Vec model\n",
    "model = gensim.models.Doc2Vec(documents, vector_size=300, min_count=2, epochs=40)\n",
    "\n",
    "def get_doc2vec(line):\n",
    "    # Tokenize the line, convert to lowercase, remove punctuation and stop words\n",
    "    words = gensim.utils.simple_preprocess(line)\n",
    "    # Infer the vector for the line\n",
    "    vec = model.infer_vector(words)\n",
    "    return vec\n",
    "\n",
    "# Add the Doc2Vec vectors to the dataframe\n",
    "df[\"doc2vec\"] = df.combined.apply(get_doc2vec)"
   ]
  },
  {
   "cell_type": "code",
   "execution_count": null,
   "metadata": {
    "ExecuteTime": {
     "start_time": "2023-07-08T06:03:32.030166Z"
    }
   },
   "outputs": [],
   "source": [
    "\n",
    "X_train, X_test, y_train, y_test = train_test_split(\n",
    "    list(df.doc2vec.values), df.sentiment, test_size=0.2, random_state=42\n",
    ")\n",
    "\n",
    "clf = LogisticRegression()\n",
    "clf.fit(X_train, y_train)\n",
    "preds = clf.predict(X_test)\n",
    "probas = clf.predict_proba(X_test)\n",
    "\n",
    "report = classification_report(y_test, preds)\n",
    "print(report)"
   ]
  },
  {
   "cell_type": "markdown",
   "metadata": {},
   "source": [
    "### Word2Vec的平均，也一样对数据进行预处理，看看会怎么样"
   ]
  },
  {
   "cell_type": "code",
   "execution_count": null,
   "metadata": {
    "ExecuteTime": {
     "start_time": "2023-07-08T06:03:32.030649Z"
    }
   },
   "outputs": [],
   "source": [
    "from gensim.models import KeyedVectors\n",
    "model = KeyedVectors.load_word2vec_format('data/GoogleNews-vectors-negative300.bin.gz', binary=True)\n",
    "\n",
    "def get_word2vec(line):\n",
    "    vec = np.zeros(300)\n",
    "    count = 0\n",
    "    words = gensim.utils.simple_preprocess(line)\n",
    "\n",
    "    for word in words:\n",
    "        if word in model:\n",
    "            vec += model[word]\n",
    "            count += 1\n",
    "    vec /= count\n",
    "    return vec\n",
    "\n",
    "df[\"word2vec\"] = df.combined.apply(get_word2vec)"
   ]
  },
  {
   "cell_type": "code",
   "execution_count": null,
   "metadata": {
    "ExecuteTime": {
     "start_time": "2023-07-08T06:03:32.030843Z"
    }
   },
   "outputs": [],
   "source": [
    "\n",
    "X_train, X_test, y_train, y_test = train_test_split(\n",
    "    list(df.word2vec.values), df.sentiment, test_size=0.2, random_state=42\n",
    ")\n",
    "\n",
    "clf = LogisticRegression()\n",
    "clf.fit(X_train, y_train)\n",
    "preds = clf.predict(X_test)\n",
    "probas = clf.predict_proba(X_test)\n",
    "\n",
    "report = classification_report(y_test, preds)\n",
    "print(report)"
   ]
  },
  {
   "cell_type": "markdown",
   "metadata": {},
   "source": [
    "### Position Encoding的可视化"
   ]
  },
  {
   "cell_type": "code",
   "execution_count": 15,
   "metadata": {
    "ExecuteTime": {
     "end_time": "2023-07-08T07:47:34.140118Z",
     "start_time": "2023-07-08T07:47:34.129254Z"
    }
   },
   "outputs": [],
   "source": [
    "# https://github.com/jalammar/jalammar.github.io/blob/master/notebookes/transformer/transformer_positional_encoding_graph.ipynb\n",
    "\n",
    "\n",
    "import numpy as np\n",
    "import matplotlib.pyplot as plt"
   ]
  },
  {
   "cell_type": "code",
   "execution_count": 16,
   "metadata": {
    "ExecuteTime": {
     "end_time": "2023-07-08T07:47:35.532389Z",
     "start_time": "2023-07-08T07:47:35.526899Z"
    }
   },
   "outputs": [],
   "source": [
    "\n",
    "\n",
    "# Code from https://www.tensorflow.org/tutorials/text/transformer\n",
    "def get_angles(pos, i, d_model):\n",
    "  angle_rates = 1 / np.power(10000, (2 * (i//2)) / np.float32(d_model))\n",
    "  return pos * angle_rates\n",
    "\n",
    "def positional_encoding(position, d_model):\n",
    "  angle_rads = get_angles(np.arange(position)[:, np.newaxis],\n",
    "                          np.arange(d_model)[np.newaxis, :],\n",
    "                          d_model)\n",
    "  \n",
    "  # apply sin to even indices in the array; 2i\n",
    "  angle_rads[:, 0::2] = np.sin(angle_rads[:, 0::2])\n",
    "  \n",
    "  # apply cos to odd indices in the array; 2i+1\n",
    "  angle_rads[:, 1::2] = np.cos(angle_rads[:, 1::2])\n",
    "    \n",
    "  pos_encoding = angle_rads[np.newaxis, ...]\n",
    "    \n",
    "  return pos_encoding\n",
    "\n"
   ]
  },
  {
   "cell_type": "code",
   "execution_count": 17,
   "metadata": {
    "ExecuteTime": {
     "end_time": "2023-07-08T07:47:38.378208Z",
     "start_time": "2023-07-08T07:47:38.221392Z"
    }
   },
   "outputs": [
    {
     "name": "stdout",
     "output_type": "stream",
     "text": [
      "(1, 10, 64)\n"
     ]
    },
    {
     "data": {
      "text/plain": "<Figure size 1200x800 with 2 Axes>",
      "image/png": "[encoded data removed]"
     },
     "metadata": {},
     "output_type": "display_data"
    }
   ],
   "source": [
    "tokens = 10\n",
    "dimensions = 64\n",
    "\n",
    "pos_encoding = positional_encoding(tokens, dimensions)\n",
    "print (pos_encoding.shape)\n",
    "\n",
    "plt.figure(figsize=(12,8))\n",
    "plt.pcolormesh(pos_encoding[0], cmap='viridis')\n",
    "plt.xlabel('Embedding Dimensions')\n",
    "plt.xlim((0, dimensions))\n",
    "plt.ylim((tokens,0))\n",
    "plt.ylabel('Token Position')\n",
    "plt.colorbar()\n",
    "plt.show()"
   ]
  },
  {
   "cell_type": "code",
   "execution_count": 18,
   "metadata": {
    "ExecuteTime": {
     "end_time": "2023-07-08T07:47:41.020212Z",
     "start_time": "2023-07-08T07:47:40.988395Z"
    }
   },
   "outputs": [
    {
     "name": "stdout",
     "output_type": "stream",
     "text": [
      "[[[ 0.00000000e+00  1.00000000e+00  0.00000000e+00  1.00000000e+00\n",
      "    0.00000000e+00  1.00000000e+00  0.00000000e+00  1.00000000e+00\n",
      "    0.00000000e+00  1.00000000e+00  0.00000000e+00  1.00000000e+00\n",
      "    0.00000000e+00  1.00000000e+00  0.00000000e+00  1.00000000e+00\n",
      "    0.00000000e+00  1.00000000e+00  0.00000000e+00  1.00000000e+00\n",
      "    0.00000000e+00  1.00000000e+00  0.00000000e+00  1.00000000e+00\n",
      "    0.00000000e+00  1.00000000e+00  0.00000000e+00  1.00000000e+00\n",
      "    0.00000000e+00  1.00000000e+00  0.00000000e+00  1.00000000e+00\n",
      "    0.00000000e+00  1.00000000e+00  0.00000000e+00  1.00000000e+00\n",
      "    0.00000000e+00  1.00000000e+00  0.00000000e+00  1.00000000e+00\n",
      "    0.00000000e+00  1.00000000e+00  0.00000000e+00  1.00000000e+00\n",
      "    0.00000000e+00  1.00000000e+00  0.00000000e+00  1.00000000e+00\n",
      "    0.00000000e+00  1.00000000e+00  0.00000000e+00  1.00000000e+00\n",
      "    0.00000000e+00  1.00000000e+00  0.00000000e+00  1.00000000e+00\n",
      "    0.00000000e+00  1.00000000e+00  0.00000000e+00  1.00000000e+00\n",
      "    0.00000000e+00  1.00000000e+00  0.00000000e+00  1.00000000e+00]\n",
      "  [ 8.41470985e-01  5.40302306e-01  6.81561350e-01  7.31760976e-01\n",
      "    5.33168440e-01  8.46009110e-01  4.09308924e-01  9.12395860e-01\n",
      "    3.10983593e-01  9.50415280e-01  2.34921076e-01  9.72014449e-01\n",
      "    1.76892186e-01  9.84230234e-01  1.32957266e-01  9.91121771e-01\n",
      "    9.98334166e-02  9.95004165e-01  7.49191579e-02  9.97189611e-01\n",
      "    5.62044992e-02  9.98419278e-01  4.21571532e-02  9.99110992e-01\n",
      "    3.16175064e-02  9.99500042e-01  2.37115146e-02  9.99718843e-01\n",
      "    1.77818569e-02  9.99841890e-01  1.33348191e-02  9.99911087e-01\n",
      "    9.99983333e-03  9.99950000e-01  7.49887181e-03  9.99971883e-01\n",
      "    5.62338361e-03  9.99984189e-01  4.21695254e-03  9.99991109e-01\n",
      "    3.16227239e-03  9.99995000e-01  2.37137148e-03  9.99997188e-01\n",
      "    1.77827847e-03  9.99998419e-01  1.33352104e-03  9.99999111e-01\n",
      "    9.99999833e-04  9.99999500e-01  7.49894139e-04  9.99999719e-01\n",
      "    5.62341296e-04  9.99999842e-01  4.21696491e-04  9.99999911e-01\n",
      "    3.16227761e-04  9.99999950e-01  2.37137368e-04  9.99999972e-01\n",
      "    1.77827940e-04  9.99999984e-01  1.33352143e-04  9.99999991e-01]\n",
      "  [ 9.09297427e-01 -4.16146837e-01  9.97479998e-01  7.09482514e-02\n",
      "    9.02130715e-01  4.31462829e-01  7.46903535e-01  6.64932409e-01\n",
      "    5.91127117e-01  8.06578410e-01  4.56693360e-01  8.89624176e-01\n",
      "    3.48205276e-01  9.37418309e-01  2.63553681e-01  9.64644731e-01\n",
      "    1.98669331e-01  9.80066578e-01  1.49417212e-01  9.88774240e-01\n",
      "    1.12231311e-01  9.93682109e-01  8.42393503e-02  9.96445549e-01\n",
      "    6.32033979e-02  9.98000667e-01  4.74096958e-02  9.98875528e-01\n",
      "    3.55580908e-02  9.99367611e-01  2.66672669e-02  9.99644365e-01\n",
      "    1.99986667e-02  9.99800007e-01  1.49973219e-02  9.99887534e-01\n",
      "    1.12465894e-02  9.99936755e-01  8.43383008e-03  9.99964435e-01\n",
      "    6.32451316e-03  9.99980000e-01  4.74272963e-03  9.99988753e-01\n",
      "    3.55655132e-03  9.99993675e-01  2.66703970e-03  9.99996443e-01\n",
      "    1.99999867e-03  9.99998000e-01  1.49978786e-03  9.99998875e-01\n",
      "    1.12468241e-03  9.99999368e-01  8.43392907e-04  9.99999644e-01\n",
      "    6.32455490e-04  9.99999800e-01  4.74274723e-04  9.99999888e-01\n",
      "    3.55655875e-04  9.99999937e-01  2.66704283e-04  9.99999964e-01]\n",
      "  [ 1.41120008e-01 -9.89992497e-01  7.78272522e-01 -6.27926652e-01\n",
      "    9.93253167e-01 -1.15966142e-01  9.53634462e-01  3.00967295e-01\n",
      "    8.12648897e-01  5.82753611e-01  6.52904012e-01  7.57440658e-01\n",
      "    5.08536134e-01  8.61040649e-01  3.89470317e-01  9.21039018e-01\n",
      "    2.95520207e-01  9.55336489e-01  2.23075425e-01  9.74801187e-01\n",
      "    1.67903310e-01  9.85803469e-01  1.26171769e-01  9.92008410e-01\n",
      "    9.47260913e-02  9.95503374e-01  7.10812179e-02  9.97470531e-01\n",
      "    5.33230805e-02  9.98577313e-01  3.99949726e-02  9.99199881e-01\n",
      "    2.99955002e-02  9.99550034e-01  2.24949287e-02  9.99746957e-01\n",
      "    1.68694395e-02  9.99857701e-01  1.26505577e-02  9.99919978e-01\n",
      "    9.48669068e-03  9.99955000e-01  7.11406111e-03  9.99974695e-01\n",
      "    5.33481292e-03  9.99985770e-01  4.00055363e-03  9.99991998e-01\n",
      "    2.99999550e-03  9.99995500e-01  2.24968073e-03  9.99997469e-01\n",
      "    1.68702318e-03  9.99998577e-01  1.26508917e-03  9.99999200e-01\n",
      "    9.48683156e-04  9.99999550e-01  7.11412052e-04  9.99999747e-01\n",
      "    5.33483798e-04  9.99999858e-01  4.00056419e-04  9.99999920e-01]\n",
      "  [-7.56802495e-01 -6.53643621e-01  1.41538923e-01 -9.89932691e-01\n",
      "    7.78471741e-01 -6.27679654e-01  9.93280735e-01 -1.15729782e-01\n",
      "    9.53580740e-01  3.01137463e-01  8.12570908e-01  5.82862351e-01\n",
      "    6.52828002e-01  7.57506172e-01  5.08471340e-01  8.61078914e-01\n",
      "    3.89418342e-01  9.21060994e-01  2.95479780e-01  9.55348994e-01\n",
      "    2.23044492e-01  9.74808266e-01  1.67879851e-01  9.85807464e-01\n",
      "    1.26154067e-01  9.92010661e-01  9.47127699e-02  9.95504641e-01\n",
      "    7.10712085e-02  9.97471244e-01  5.33155662e-02  9.98577714e-01\n",
      "    3.99893342e-02  9.99200107e-01  2.99912705e-02  9.99550161e-01\n",
      "    2.24917562e-02  9.99747028e-01  1.68670603e-02  9.99857741e-01\n",
      "    1.26487733e-02  9.99920001e-01  9.48535258e-03  9.99955013e-01\n",
      "    7.11305766e-03  9.99974702e-01  5.33406043e-03  9.99985774e-01\n",
      "    3.99998933e-03  9.99992000e-01  2.99957234e-03  9.99995501e-01\n",
      "    2.24936340e-03  9.99997470e-01  1.68678521e-03  9.99998577e-01\n",
      "    1.26491073e-03  9.99999200e-01  9.48549340e-04  9.99999550e-01\n",
      "    7.11311704e-04  9.99999747e-01  5.33408548e-04  9.99999858e-01]\n",
      "  [-9.58924275e-01  2.83662185e-01 -5.71127201e-01 -8.20861572e-01\n",
      "    3.23935204e-01 -9.46079269e-01  8.58895997e-01 -5.12150043e-01\n",
      "    9.99946517e-01 -1.03423189e-02  9.26757313e-01  3.75660595e-01\n",
      "    7.76529980e-01  6.30080304e-01  6.18443713e-01  7.85829100e-01\n",
      "    4.79425539e-01  8.77582562e-01  3.66223309e-01  9.30526995e-01\n",
      "    2.77480531e-01  9.60731261e-01  2.09289441e-01  9.77853736e-01\n",
      "    1.57455898e-01  9.87526020e-01  1.18291064e-01  9.92978965e-01\n",
      "    8.87968624e-02  9.96049756e-01  6.66266790e-02  9.97777974e-01\n",
      "    4.99791693e-02  9.98750260e-01  3.74859257e-02  9.99297156e-01\n",
      "    2.81133617e-02  9.99604741e-01  2.10832629e-02  9.99777723e-01\n",
      "    1.58107295e-02  9.99875003e-01  1.18565907e-02  9.99929708e-01\n",
      "    8.89127990e-03  9.99960472e-01  6.66755776e-03  9.99977772e-01\n",
      "    4.99997917e-03  9.99987500e-01  3.74946226e-03  9.99992971e-01\n",
      "    2.81170292e-03  9.99996047e-01  2.10848095e-03  9.99997777e-01\n",
      "    1.58113817e-03  9.99998750e-01  1.18568658e-03  9.99999297e-01\n",
      "    8.89139588e-04  9.99999605e-01  6.66760667e-04  9.99999778e-01]\n",
      "  [-2.79415498e-01  9.60170287e-01 -9.77396119e-01 -2.11416238e-01\n",
      "   -2.30367475e-01 -9.73103708e-01  5.74025569e-01 -8.18837375e-01\n",
      "    9.47148158e-01 -3.20796458e-01  9.89072090e-01  1.47432701e-01\n",
      "    8.75740567e-01  4.82782000e-01  7.17434716e-01  6.96625745e-01\n",
      "    5.64642473e-01  8.25335615e-01  4.34908378e-01  9.00474710e-01\n",
      "    3.31039330e-01  9.43616957e-01  2.50326911e-01  9.68161370e-01\n",
      "    1.88600287e-01  9.82053935e-01  1.41802840e-01  9.89894921e-01\n",
      "    1.06494437e-01  9.94313298e-01  7.99259438e-02  9.96800804e-01\n",
      "    5.99640065e-02  9.98200540e-01  4.49784730e-02  9.98987956e-01\n",
      "    3.37340781e-02  9.99430844e-01  2.52990907e-02  9.99679927e-01\n",
      "    1.89725276e-02  9.99820005e-01  1.42277622e-02  9.99898780e-01\n",
      "    1.06694740e-02  9.99943080e-01  8.00104322e-03  9.99967991e-01\n",
      "    5.99996400e-03  9.99982000e-01  4.49935007e-03  9.99989878e-01\n",
      "    3.37404155e-03  9.99994308e-01  2.53017632e-03  9.99996799e-01\n",
      "    1.89736546e-03  9.99998200e-01  1.42282374e-03  9.99998988e-01\n",
      "    1.06696744e-03  9.99999431e-01  8.00112774e-04  9.99999680e-01]\n",
      "  [ 6.56986599e-01  7.53902254e-01 -8.59313475e-01  5.11449266e-01\n",
      "   -7.13721168e-01 -7.00429935e-01  1.88581107e-01 -9.82057618e-01\n",
      "    8.00421646e-01 -5.99437393e-01  9.96027411e-01 -8.90471635e-02\n",
      "    9.47330707e-01  3.20256978e-01  8.03686621e-01  5.95052784e-01\n",
      "    6.44217687e-01  7.64842187e-01  5.01148923e-01  8.65361056e-01\n",
      "    3.83551568e-01  9.23519461e-01  2.90919296e-01  9.56747597e-01\n",
      "    2.19556091e-01  9.75599878e-01  1.65234879e-01  9.86254244e-01\n",
      "    1.24158336e-01  9.92262419e-01  9.32109958e-02  9.95646378e-01\n",
      "    6.99428473e-02  9.97551000e-01  5.24684910e-02  9.98622580e-01\n",
      "    3.93537277e-02  9.99225342e-01  2.95144685e-02  9.99564353e-01\n",
      "    2.21341359e-02  9.99755010e-01  1.65988536e-02  9.99862230e-01\n",
      "    1.24476344e-02  9.99922525e-01  9.33451446e-03  9.99956432e-01\n",
      "    6.99994283e-03  9.99975500e-01  5.24923536e-03  9.99986223e-01\n",
      "    3.93637911e-03  9.99992252e-01  2.95187124e-03  9.99995643e-01\n",
      "    2.21359255e-03  9.99997550e-01  1.65996083e-03  9.99998622e-01\n",
      "    1.24479527e-03  9.99999225e-01  9.33464867e-04  9.99999564e-01]\n",
      "  [ 9.89358247e-01 -1.45500034e-01 -2.80228014e-01  9.59933466e-01\n",
      "   -9.77261746e-01 -2.12036505e-01 -2.29904325e-01 -9.73213235e-01\n",
      "    5.74317769e-01 -8.18632457e-01  9.47233979e-01 -3.20542960e-01\n",
      "    9.89042481e-01  1.47631200e-01  8.75667898e-01  4.82913794e-01\n",
      "    7.17356091e-01  6.96706709e-01  5.64572621e-01  8.25383399e-01\n",
      "    4.34851228e-01  9.00502310e-01  3.30994421e-01  9.43632711e-01\n",
      "    2.50292358e-01  9.68170303e-01  1.88574004e-01  9.82058982e-01\n",
      "    1.41782974e-01  9.89897767e-01  1.06479472e-01  9.94314901e-01\n",
      "    7.99146940e-02  9.96801706e-01  5.99555585e-02  9.98201047e-01\n",
      "    4.49721329e-02  9.98988242e-01  3.37293215e-02  9.99431005e-01\n",
      "    2.52955229e-02  9.99680017e-01  1.89698517e-02  9.99820056e-01\n",
      "    1.42257554e-02  9.99898809e-01  1.06679691e-02  9.99943096e-01\n",
      "    7.99991467e-03  9.99968000e-01  5.99911769e-03  9.99982005e-01\n",
      "    4.49871543e-03  9.99989881e-01  3.37356563e-03  9.99994310e-01\n",
      "    2.52981943e-03  9.99996800e-01  1.89709783e-03  9.99998201e-01\n",
      "    1.42262305e-03  9.99998988e-01  1.06681694e-03  9.99999431e-01]\n",
      "  [ 4.12118485e-01 -9.11130262e-01  4.49193624e-01  8.93434434e-01\n",
      "   -9.39823513e-01  3.41660306e-01 -6.08108617e-01 -7.93853834e-01\n",
      "    2.91259121e-01 -9.56644200e-01  8.45422817e-01 -5.34097614e-01\n",
      "    9.99560318e-01 -2.96507958e-02  9.32100416e-01  3.62199965e-01\n",
      "    7.83326910e-01  6.21609968e-01  6.24822982e-01  7.80766445e-01\n",
      "    4.84776130e-01  8.74638270e-01  3.70481033e-01  9.28840031e-01\n",
      "    2.80778353e-01  9.59772638e-01  2.11807091e-01  9.77311494e-01\n",
      "    1.59362777e-01  9.87220090e-01  1.19729014e-01  9.92806609e-01\n",
      "    8.98785492e-02  9.95952733e-01  6.74392544e-02  9.97723382e-01\n",
      "    5.05891159e-02  9.98719551e-01  3.79435748e-02  9.99279883e-01\n",
      "    2.84566569e-02  9.99595027e-01  2.13407432e-02  9.99772260e-01\n",
      "    1.60038315e-02  9.99871930e-01  1.20014048e-02  9.99927981e-01\n",
      "    8.99987850e-03  9.99959500e-01  6.74899665e-03  9.99977225e-01\n",
      "    5.06105032e-03  9.99987193e-01  3.79525942e-03  9.99992798e-01\n",
      "    2.84604605e-03  9.99995950e-01  2.13423471e-03  9.99997723e-01\n",
      "    1.60045079e-03  9.99998719e-01  1.20016900e-03  9.99999280e-01]]]\n"
     ]
    }
   ],
   "source": [
    "print (pos_encoding)\n"
   ]
  }
 ],
 "metadata": {
  "kernelspec": {
   "display_name": "Python 3 (ipykernel)",
   "language": "python",
   "name": "python3"
  },
  "language_info": {
   "codemirror_mode": {
    "name": "ipython",
    "version": 3
   },
   "file_extension": ".py",
   "mimetype": "text/x-python",
   "name": "python",
   "nbconvert_exporter": "python",
   "pygments_lexer": "ipython3",
   "version": "3.9.6"
  }
 },
 "nbformat": 4,
 "nbformat_minor": 2
}
